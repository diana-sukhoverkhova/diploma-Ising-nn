{
 "cells": [
  {
   "cell_type": "code",
   "execution_count": 19,
   "id": "e94fbb3b-72dc-445d-b61f-4855e9bac164",
   "metadata": {},
   "outputs": [],
   "source": [
    "import torch\n",
    "import torch.nn as nn\n",
    "import matplotlib.pyplot as plt\n",
    "import numpy as np\n",
    "from tqdm import tqdm\n",
    "from sklearn.model_selection import train_test_split\n",
    "from torch.utils.data import DataLoader, TensorDataset, random_split\n",
    "import torchvision.datasets as datasets\n",
    "import os\n",
    "%matplotlib inline"
   ]
  },
  {
   "cell_type": "code",
   "execution_count": 20,
   "id": "9ff926e6-34e5-483d-9e2b-b6e37f969d35",
   "metadata": {},
   "outputs": [],
   "source": [
    "import warnings\n",
    "warnings.filterwarnings(\"ignore\")"
   ]
  },
  {
   "cell_type": "code",
   "execution_count": 21,
   "id": "2552a277-75ea-43f3-90ae-9cef50597502",
   "metadata": {},
   "outputs": [],
   "source": [
    "plt.rcParams['axes.grid'] = True"
   ]
  },
  {
   "cell_type": "code",
   "execution_count": 22,
   "id": "2e03d0fc-5233-4adb-9834-7397c2f18d6e",
   "metadata": {},
   "outputs": [],
   "source": [
    "roots = [2.2691853142129728, 2.104982167992544, 1.932307699120554, 1.749339162933206, 1.5536238493280832, 1.34187327905057, 1.109960313758399, 0.8541630993606272, 0.5762735442012712, 0.2885386111960936, 0.03198372863548067]\n",
    "jds = [0.0, -0.1, -0.2, -0.3, -0.4, -0.5, -0.6, -0.7, -0.8, -0.9, -1.0]\n",
    "get_crit_T = dict(zip(jds, roots))\n",
    "num_temps = 100"
   ]
  },
  {
   "cell_type": "code",
   "execution_count": 23,
   "id": "b19172d8-e3cc-4504-9170-85d8a00b35ef",
   "metadata": {},
   "outputs": [],
   "source": [
    "def errs(errs):\n",
    "    return np.array([sum(errs[i*512:(i+1)*512])/512 for i in range(num_temps)])\n",
    "\n",
    "def stds_err(errs):\n",
    "    return np.array([np.std(errs[i*512:(i+1)*512]) for i in range(num_temps)])"
   ]
  },
  {
   "cell_type": "code",
   "execution_count": 24,
   "id": "a9345cd4-59a9-4178-b9e9-00a6110cc52a",
   "metadata": {},
   "outputs": [],
   "source": [
    "max_bce = []\n",
    "max_pred = []"
   ]
  },
  {
   "cell_type": "code",
   "execution_count": 25,
   "id": "69fd7efb-310d-4d78-8a21-cd3bb391440b",
   "metadata": {},
   "outputs": [],
   "source": [
    "Jd = 0.0\n",
    "T_c = get_crit_T[Jd]\n",
    "T = np.linspace(T_c - 0.3, T_c + 0.3, num_temps)\n",
    "\n",
    "L = 10\n",
    "with open(f'data_errors/{Jd}_{L}_{num_temps}.npy', 'rb') as f:\n",
    "    errs_10 = np.load(f) \n",
    "with open(f'data_outputs/{Jd}_{L}_{num_temps}.npy', 'rb') as f:\n",
    "    outs_10 = np.load(f)\n",
    "    \n",
    "L = 20\n",
    "with open(f'data_errors/{Jd}_{L}_{num_temps}.npy', 'rb') as f:\n",
    "    errs_20 = np.load(f) \n",
    "with open(f'data_outputs/{Jd}_{L}_{num_temps}.npy', 'rb') as f:\n",
    "    outs_20 = np.load(f) \n",
    "    \n",
    "L = 30\n",
    "with open(f'data_errors/{Jd}_{L}_{num_temps}.npy', 'rb') as f:\n",
    "    errs_30 = np.load(f)\n",
    "with open(f'data_outputs/{Jd}_{L}_{num_temps}.npy', 'rb') as f:\n",
    "    outs_30 = np.load(f)\n",
    "    \n",
    "L = 60\n",
    "with open(f'data_errors/{Jd}_{L}_{num_temps}.npy', 'rb') as f:\n",
    "    errs_60 = np.load(f) \n",
    "with open(f'data_outputs/{Jd}_{L}_{num_temps}.npy', 'rb') as f:\n",
    "    outs_60 = np.load(f) \n",
    "\n",
    "L = 80\n",
    "with open(f'data_errors/{Jd}_{L}_{num_temps}.npy', 'rb') as f:\n",
    "    errs_80 = np.load(f) \n",
    "with open(f'data_outputs/{Jd}_{L}_{num_temps}.npy', 'rb') as f:\n",
    "    outs_80 = np.load(f)"
   ]
  },
  {
   "cell_type": "code",
   "execution_count": 26,
   "id": "e19bccde-4835-4516-85e5-2174e562f11b",
   "metadata": {},
   "outputs": [
    {
     "data": {
      "image/png": "[encoded data removed]",
      "text/plain": [
       "<Figure size 432x288 with 1 Axes>"
      ]
     },
     "metadata": {
      "needs_background": "light"
     },
     "output_type": "display_data"
    }
   ],
   "source": [
    "idx_20 = np.argmax(stds_err(outs_20))\n",
    "idx_30 = np.argmax(stds_err(outs_30))\n",
    "idx_60 = np.argmax(stds_err(outs_60))\n",
    "idx_80 = np.argmax(stds_err(outs_80))\n",
    "\n",
    "ls = np.array([1/L for L in [20, 30, 60, 80]])\n",
    "cs = np.array([T[idx_20], T[idx_30], T[idx_60], T[idx_80]])\n",
    "\n",
    "pl_00 = np.polyfit(np.log10(ls), np.log10(cs), 1)\n",
    "\n",
    "L_inf = np.arange(2, 1000, 0.01)\n",
    "\n",
    "plt.scatter(np.log10(ls), np.log10(cs), color='red', label='')\n",
    "plt.plot(np.log10(ls), np.poly1d(pl_00)(np.log10(ls)))\n",
    "plt.title('Jd = 0.0')\n",
    "plt.xlabel('1/L')\n",
    "plt.ylabel('T of max(error of pred)')\n",
    "#plt.xscale('log')\n",
    "#plt.yscale('log')\n",
    "#plt.savefig('images/00_100_max_std.png')\n",
    "max_bce.append(T[np.argmax(errs(errs_80))])\n",
    "max_pred.append(T[np.argmin(np.abs(0.5 - errs(outs_80)))])"
   ]
  },
  {
   "cell_type": "code",
   "execution_count": 27,
   "id": "789690c9-1ea8-4c3b-aa8b-a6580e577164",
   "metadata": {},
   "outputs": [
    {
     "data": {
      "text/plain": [
       "[2.2782762233038816]"
      ]
     },
     "execution_count": 27,
     "metadata": {},
     "output_type": "execute_result"
    }
   ],
   "source": [
    "max_pred"
   ]
  },
  {
   "cell_type": "code",
   "execution_count": 28,
   "id": "d0f761b1-a8b1-44d7-bb15-1d65c6718cb1",
   "metadata": {},
   "outputs": [],
   "source": [
    "Jd = -0.1\n",
    "T_c = get_crit_T[Jd]\n",
    "T = np.linspace(T_c - 0.3, T_c + 0.3, num_temps)\n",
    "\n",
    "L = 10\n",
    "with open(f'data_errors/{Jd}_{L}_{num_temps}.npy', 'rb') as f:\n",
    "    errs_10 = np.load(f) \n",
    "with open(f'data_outputs/{Jd}_{L}_{num_temps}.npy', 'rb') as f:\n",
    "    outs_10 = np.load(f)\n",
    "    \n",
    "L = 20\n",
    "with open(f'data_errors/{Jd}_{L}_{num_temps}.npy', 'rb') as f:\n",
    "    errs_20 = np.load(f) \n",
    "with open(f'data_outputs/{Jd}_{L}_{num_temps}.npy', 'rb') as f:\n",
    "    outs_20 = np.load(f) \n",
    "    \n",
    "L = 30\n",
    "with open(f'data_errors/{Jd}_{L}_{num_temps}.npy', 'rb') as f:\n",
    "    errs_30 = np.load(f)\n",
    "with open(f'data_outputs/{Jd}_{L}_{num_temps}.npy', 'rb') as f:\n",
    "    outs_30 = np.load(f)\n",
    "    \n",
    "L = 60\n",
    "with open(f'data_errors/{Jd}_{L}_{num_temps}.npy', 'rb') as f:\n",
    "    errs_60 = np.load(f) \n",
    "with open(f'data_outputs/{Jd}_{L}_{num_temps}.npy', 'rb') as f:\n",
    "    outs_60 = np.load(f) \n",
    "\n",
    "L = 80\n",
    "with open(f'data_errors/{Jd}_{L}_{num_temps}.npy', 'rb') as f:\n",
    "    errs_80 = np.load(f) \n",
    "with open(f'data_outputs/{Jd}_{L}_{num_temps}.npy', 'rb') as f:\n",
    "    outs_80 = np.load(f)"
   ]
  },
  {
   "cell_type": "code",
   "execution_count": 29,
   "id": "7ee301ec-cc22-48ab-a6e5-c805a2e32562",
   "metadata": {},
   "outputs": [
    {
     "data": {
      "image/png": "[encoded data removed]",
      "text/plain": [
       "<Figure size 432x288 with 1 Axes>"
      ]
     },
     "metadata": {
      "needs_background": "light"
     },
     "output_type": "display_data"
    }
   ],
   "source": [
    "idx_20 = np.argmax(stds_err(outs_20))\n",
    "idx_30 = np.argmax(stds_err(outs_30))\n",
    "idx_60 = np.argmax(stds_err(outs_60))\n",
    "idx_80 = np.argmax(stds_err(outs_80))\n",
    "\n",
    "ls = np.array([1/L for L in [20, 30, 60, 80]])\n",
    "cs = np.array([T[idx_20], T[idx_30], T[idx_60], T[idx_80]])\n",
    "\n",
    "pl_01 = np.polyfit(np.log10(ls), np.log10(cs), 1)\n",
    "\n",
    "L_inf = np.arange(2, 1000, 0.01)\n",
    "\n",
    "plt.scatter(np.log10(ls), np.log10(cs), color='red', label='')\n",
    "plt.plot(np.log10(ls), np.poly1d(pl_01)(np.log10(ls)))\n",
    "plt.title('Jd = -0.1')\n",
    "plt.xlabel('1/L')\n",
    "plt.ylabel('T of max(error of pred)')\n",
    "#plt.xscale('log')\n",
    "#plt.yscale('log')\n",
    "#plt.savefig('images/00_100_max_std.png')\n",
    "max_bce.append(T[np.argmax(errs(errs_80))])\n",
    "max_pred.append(T[np.argmin(np.abs(0.5 - errs(outs_80)))])"
   ]
  },
  {
   "cell_type": "code",
   "execution_count": 30,
   "id": "d73c980c-29ac-41da-9968-7d3e6ae90b10",
   "metadata": {},
   "outputs": [],
   "source": [
    "Jd = -0.2\n",
    "T_c = get_crit_T[Jd]\n",
    "T = np.linspace(T_c - 0.3, T_c + 0.3, num_temps)\n",
    "\n",
    "L = 10\n",
    "with open(f'data_errors/{Jd}_{L}_{num_temps}.npy', 'rb') as f:\n",
    "    errs_10 = np.load(f) \n",
    "with open(f'data_outputs/{Jd}_{L}_{num_temps}.npy', 'rb') as f:\n",
    "    outs_10 = np.load(f)\n",
    "    \n",
    "L = 20\n",
    "with open(f'data_errors/{Jd}_{L}_{num_temps}.npy', 'rb') as f:\n",
    "    errs_20 = np.load(f) \n",
    "with open(f'data_outputs/{Jd}_{L}_{num_temps}.npy', 'rb') as f:\n",
    "    outs_20 = np.load(f) \n",
    "    \n",
    "L = 30\n",
    "with open(f'data_errors/{Jd}_{L}_{num_temps}.npy', 'rb') as f:\n",
    "    errs_30 = np.load(f)\n",
    "with open(f'data_outputs/{Jd}_{L}_{num_temps}.npy', 'rb') as f:\n",
    "    outs_30 = np.load(f)\n",
    "    \n",
    "L = 60\n",
    "with open(f'data_errors/{Jd}_{L}_{num_temps}.npy', 'rb') as f:\n",
    "    errs_60 = np.load(f) \n",
    "with open(f'data_outputs/{Jd}_{L}_{num_temps}.npy', 'rb') as f:\n",
    "    outs_60 = np.load(f) \n",
    "\n",
    "L = 80\n",
    "with open(f'data_errors/{Jd}_{L}_{num_temps}.npy', 'rb') as f:\n",
    "    errs_80 = np.load(f) \n",
    "with open(f'data_outputs/{Jd}_{L}_{num_temps}.npy', 'rb') as f:\n",
    "    outs_80 = np.load(f)"
   ]
  },
  {
   "cell_type": "code",
   "execution_count": 31,
   "id": "b90fd4d8-1ec2-4f7c-ae0b-31348e3be524",
   "metadata": {},
   "outputs": [
    {
     "data": {
      "image/png": "[encoded data removed]",
      "text/plain": [
       "<Figure size 432x288 with 1 Axes>"
      ]
     },
     "metadata": {
      "needs_background": "light"
     },
     "output_type": "display_data"
    }
   ],
   "source": [
    "idx_20 = np.argmax(stds_err(outs_20))\n",
    "idx_30 = np.argmax(stds_err(outs_30))\n",
    "idx_60 = np.argmax(stds_err(outs_60))\n",
    "idx_80 = np.argmax(stds_err(outs_80))\n",
    "\n",
    "ls = np.array([1/L for L in [20, 30, 60, 80]])\n",
    "cs = np.array([T[idx_20], T[idx_30], T[idx_60], T[idx_80]])\n",
    "\n",
    "pl_02 = np.polyfit(np.log10(ls), np.log10(cs), 1)\n",
    "\n",
    "L_inf = np.arange(2, 1000, 0.01)\n",
    "\n",
    "plt.scatter(np.log10(ls), np.log10(cs), color='red', label='')\n",
    "plt.plot(np.log10(ls), np.poly1d(pl_02)(np.log10(ls)))\n",
    "plt.title('Jd = -0.2')\n",
    "plt.xlabel('1/L')\n",
    "plt.ylabel('T of max(error of pred)')\n",
    "#plt.xscale('log')\n",
    "#plt.yscale('log')\n",
    "#plt.savefig('images/00_100_max_std.png')\n",
    "max_bce.append(T[np.argmax(errs(errs_80))])\n",
    "max_pred.append(T[np.argmin(np.abs(0.5 - errs(outs_80)))])"
   ]
  },
  {
   "cell_type": "code",
   "execution_count": 32,
   "id": "4e172164-711c-4618-98a2-b444cc252449",
   "metadata": {},
   "outputs": [],
   "source": [
    "Jd = -0.3\n",
    "T_c = get_crit_T[Jd]\n",
    "T = np.linspace(T_c - 0.3, T_c + 0.3, num_temps)\n",
    "\n",
    "L = 10\n",
    "with open(f'data_errors/{Jd}_{L}_{num_temps}.npy', 'rb') as f:\n",
    "    errs_10 = np.load(f) \n",
    "with open(f'data_outputs/{Jd}_{L}_{num_temps}.npy', 'rb') as f:\n",
    "    outs_10 = np.load(f)\n",
    "    \n",
    "L = 20\n",
    "with open(f'data_errors/{Jd}_{L}_{num_temps}.npy', 'rb') as f:\n",
    "    errs_20 = np.load(f) \n",
    "with open(f'data_outputs/{Jd}_{L}_{num_temps}.npy', 'rb') as f:\n",
    "    outs_20 = np.load(f) \n",
    "    \n",
    "L = 30\n",
    "with open(f'data_errors/{Jd}_{L}_{num_temps}.npy', 'rb') as f:\n",
    "    errs_30 = np.load(f)\n",
    "with open(f'data_outputs/{Jd}_{L}_{num_temps}.npy', 'rb') as f:\n",
    "    outs_30 = np.load(f)\n",
    "    \n",
    "L = 60\n",
    "with open(f'data_errors/{Jd}_{L}_{num_temps}.npy', 'rb') as f:\n",
    "    errs_60 = np.load(f) \n",
    "with open(f'data_outputs/{Jd}_{L}_{num_temps}.npy', 'rb') as f:\n",
    "    outs_60 = np.load(f) \n",
    "\n",
    "L = 80\n",
    "with open(f'data_errors/{Jd}_{L}_{num_temps}.npy', 'rb') as f:\n",
    "    errs_80 = np.load(f) \n",
    "with open(f'data_outputs/{Jd}_{L}_{num_temps}.npy', 'rb') as f:\n",
    "    outs_80 = np.load(f)"
   ]
  },
  {
   "cell_type": "code",
   "execution_count": 33,
   "id": "e91e9100-a141-4f66-b0bb-1feba9f591d1",
   "metadata": {},
   "outputs": [
    {
     "data": {
      "image/png": "[encoded data removed]",
      "text/plain": [
       "<Figure size 432x288 with 1 Axes>"
      ]
     },
     "metadata": {
      "needs_background": "light"
     },
     "output_type": "display_data"
    }
   ],
   "source": [
    "idx_20 = np.argmax(stds_err(outs_20))\n",
    "idx_30 = np.argmax(stds_err(outs_30))\n",
    "idx_60 = np.argmax(stds_err(outs_60))\n",
    "idx_80 = np.argmax(stds_err(outs_80))\n",
    "\n",
    "ls = np.array([1/L for L in [20, 30, 60, 80]])\n",
    "cs = np.array([T[idx_20], T[idx_30], T[idx_60], T[idx_80]])\n",
    "\n",
    "pl_03 = np.polyfit(np.log10(ls), np.log10(cs), 1)\n",
    "\n",
    "L_inf = np.arange(2, 1000, 0.01)\n",
    "\n",
    "plt.scatter(np.log10(ls), np.log10(cs), color='red', label='')\n",
    "plt.plot(np.log10(ls), np.poly1d(pl_03)(np.log10(ls)))\n",
    "plt.title('Jd = -0.3')\n",
    "plt.xlabel('1/L')\n",
    "plt.ylabel('T of max(error of pred)')\n",
    "#plt.xscale('log')\n",
    "#plt.yscale('log')\n",
    "#plt.savefig('images/00_100_max_std.png')\n",
    "max_bce.append(T[np.argmax(errs(errs_80))])\n",
    "max_pred.append(T[np.argmin(np.abs(0.5 - errs(outs_80)))])"
   ]
  },
  {
   "cell_type": "code",
   "execution_count": 34,
   "id": "90b498f2-ab42-41e9-913e-5d960faa8209",
   "metadata": {},
   "outputs": [],
   "source": [
    "Jd = -0.4\n",
    "T_c = get_crit_T[Jd]\n",
    "T = np.linspace(T_c - 0.3, T_c + 0.3, num_temps)\n",
    "\n",
    "L = 10\n",
    "with open(f'data_errors/{Jd}_{L}_{num_temps}.npy', 'rb') as f:\n",
    "    errs_10 = np.load(f) \n",
    "with open(f'data_outputs/{Jd}_{L}_{num_temps}.npy', 'rb') as f:\n",
    "    outs_10 = np.load(f)\n",
    "    \n",
    "L = 20\n",
    "with open(f'data_errors/{Jd}_{L}_{num_temps}.npy', 'rb') as f:\n",
    "    errs_20 = np.load(f) \n",
    "with open(f'data_outputs/{Jd}_{L}_{num_temps}.npy', 'rb') as f:\n",
    "    outs_20 = np.load(f) \n",
    "    \n",
    "L = 30\n",
    "with open(f'data_errors/{Jd}_{L}_{num_temps}.npy', 'rb') as f:\n",
    "    errs_30 = np.load(f)\n",
    "with open(f'data_outputs/{Jd}_{L}_{num_temps}.npy', 'rb') as f:\n",
    "    outs_30 = np.load(f)\n",
    "    \n",
    "L = 60\n",
    "with open(f'data_errors/{Jd}_{L}_{num_temps}.npy', 'rb') as f:\n",
    "    errs_60 = np.load(f) \n",
    "with open(f'data_outputs/{Jd}_{L}_{num_temps}.npy', 'rb') as f:\n",
    "    outs_60 = np.load(f) \n",
    "\n",
    "L = 80\n",
    "with open(f'data_errors/{Jd}_{L}_{num_temps}.npy', 'rb') as f:\n",
    "    errs_80 = np.load(f) \n",
    "with open(f'data_outputs/{Jd}_{L}_{num_temps}.npy', 'rb') as f:\n",
    "    outs_80 = np.load(f)"
   ]
  },
  {
   "cell_type": "code",
   "execution_count": 35,
   "id": "317dae30-c195-480f-bc7f-30a1abf3b5dc",
   "metadata": {},
   "outputs": [
    {
     "data": {
      "image/png": "[encoded data removed]",
      "text/plain": [
       "<Figure size 432x288 with 1 Axes>"
      ]
     },
     "metadata": {
      "needs_background": "light"
     },
     "output_type": "display_data"
    }
   ],
   "source": [
    "idx_20 = np.argmax(stds_err(outs_20))\n",
    "idx_30 = np.argmax(stds_err(outs_30))\n",
    "idx_60 = np.argmax(stds_err(outs_60))\n",
    "idx_80 = np.argmax(stds_err(outs_80))\n",
    "\n",
    "ls = np.array([1/L for L in [20, 30, 60, 80]])\n",
    "cs = np.array([T[idx_20], T[idx_30], T[idx_60], T[idx_80]])\n",
    "\n",
    "pl_04 = np.polyfit(np.log10(ls), np.log10(cs), 1)\n",
    "\n",
    "L_inf = np.arange(2, 1000, 0.01)\n",
    "\n",
    "plt.scatter(np.log10(ls), np.log10(cs), color='red', label='')\n",
    "plt.plot(np.log10(ls), np.poly1d(pl_04)(np.log10(ls)))\n",
    "plt.title('Jd = -0.4')\n",
    "plt.xlabel('1/L')\n",
    "plt.ylabel('T of max(error of pred)')\n",
    "#plt.xscale('log')\n",
    "#plt.yscale('log')\n",
    "#plt.savefig('images/00_100_max_std.png')\n",
    "max_bce.append(T[np.argmax(errs(errs_80))])\n",
    "max_pred.append(T[np.argmin(np.abs(0.5 - errs(outs_80)))])"
   ]
  },
  {
   "cell_type": "code",
   "execution_count": 36,
   "id": "ad6a1433-93f5-4632-8195-808d68ecb3c0",
   "metadata": {},
   "outputs": [],
   "source": [
    "Jd = -0.5\n",
    "T_c = get_crit_T[Jd]\n",
    "T = np.linspace(T_c - 0.3, T_c + 0.3, num_temps)\n",
    "\n",
    "L = 10\n",
    "with open(f'data_errors/{Jd}_{L}_{num_temps}.npy', 'rb') as f:\n",
    "    errs_10 = np.load(f) \n",
    "with open(f'data_outputs/{Jd}_{L}_{num_temps}.npy', 'rb') as f:\n",
    "    outs_10 = np.load(f)\n",
    "    \n",
    "L = 20\n",
    "with open(f'data_errors/{Jd}_{L}_{num_temps}.npy', 'rb') as f:\n",
    "    errs_20 = np.load(f) \n",
    "with open(f'data_outputs/{Jd}_{L}_{num_temps}.npy', 'rb') as f:\n",
    "    outs_20 = np.load(f) \n",
    "    \n",
    "L = 30\n",
    "with open(f'data_errors/{Jd}_{L}_{num_temps}.npy', 'rb') as f:\n",
    "    errs_30 = np.load(f)\n",
    "with open(f'data_outputs/{Jd}_{L}_{num_temps}.npy', 'rb') as f:\n",
    "    outs_30 = np.load(f)\n",
    "    \n",
    "L = 60\n",
    "with open(f'data_errors/{Jd}_{L}_{num_temps}.npy', 'rb') as f:\n",
    "    errs_60 = np.load(f) \n",
    "with open(f'data_outputs/{Jd}_{L}_{num_temps}.npy', 'rb') as f:\n",
    "    outs_60 = np.load(f) \n",
    "\n",
    "L = 80\n",
    "with open(f'data_errors/{Jd}_{L}_{num_temps}.npy', 'rb') as f:\n",
    "    errs_80 = np.load(f) \n",
    "with open(f'data_outputs/{Jd}_{L}_{num_temps}.npy', 'rb') as f:\n",
    "    outs_80 = np.load(f)"
   ]
  },
  {
   "cell_type": "code",
   "execution_count": 37,
   "id": "26901229-ec8b-4c68-9d84-6d29b00a44a9",
   "metadata": {},
   "outputs": [
    {
     "data": {
      "image/png": "[encoded data removed]",
      "text/plain": [
       "<Figure size 432x288 with 1 Axes>"
      ]
     },
     "metadata": {
      "needs_background": "light"
     },
     "output_type": "display_data"
    }
   ],
   "source": [
    "idx_20 = np.argmax(stds_err(outs_20))\n",
    "idx_30 = np.argmax(stds_err(outs_30))\n",
    "idx_60 = np.argmax(stds_err(outs_60))\n",
    "idx_80 = np.argmax(stds_err(outs_80))\n",
    "\n",
    "ls = np.array([1/L for L in [20, 30, 60, 80]])\n",
    "cs = np.array([T[idx_20], T[idx_30], T[idx_60], T[idx_80]])\n",
    "\n",
    "pl_05 = np.polyfit(np.log10(ls), np.log10(cs), 1)\n",
    "\n",
    "L_inf = np.arange(2, 1000, 0.01)\n",
    "\n",
    "plt.scatter(np.log10(ls), np.log10(cs), color='red', label='')\n",
    "plt.plot(np.log10(ls), np.poly1d(pl_05)(np.log10(ls)))\n",
    "plt.title('Jd = -0.5')\n",
    "plt.xlabel('1/L')\n",
    "plt.ylabel('T of max(error of pred)')\n",
    "#plt.xscale('log')\n",
    "#plt.yscale('log')\n",
    "#plt.savefig('images/00_100_max_std.png')\n",
    "max_bce.append(T[np.argmax(errs(errs_80))])\n",
    "max_pred.append(T[np.argmin(np.abs(0.5 - errs(outs_80)))])"
   ]
  },
  {
   "cell_type": "code",
   "execution_count": 38,
   "id": "61131cbe-9f56-4322-ae04-17e9d3e331f3",
   "metadata": {},
   "outputs": [],
   "source": [
    "Jd = -0.6\n",
    "T_c = get_crit_T[Jd]\n",
    "T = np.linspace(T_c - 0.3, T_c + 0.3, num_temps)\n",
    "\n",
    "L = 10\n",
    "with open(f'data_errors/{Jd}_{L}_{num_temps}.npy', 'rb') as f:\n",
    "    errs_10 = np.load(f) \n",
    "with open(f'data_outputs/{Jd}_{L}_{num_temps}.npy', 'rb') as f:\n",
    "    outs_10 = np.load(f)\n",
    "    \n",
    "L = 20\n",
    "with open(f'data_errors/{Jd}_{L}_{num_temps}.npy', 'rb') as f:\n",
    "    errs_20 = np.load(f) \n",
    "with open(f'data_outputs/{Jd}_{L}_{num_temps}.npy', 'rb') as f:\n",
    "    outs_20 = np.load(f) \n",
    "    \n",
    "L = 30\n",
    "with open(f'data_errors/{Jd}_{L}_{num_temps}.npy', 'rb') as f:\n",
    "    errs_30 = np.load(f)\n",
    "with open(f'data_outputs/{Jd}_{L}_{num_temps}.npy', 'rb') as f:\n",
    "    outs_30 = np.load(f)\n",
    "    \n",
    "L = 60\n",
    "with open(f'data_errors/{Jd}_{L}_{num_temps}.npy', 'rb') as f:\n",
    "    errs_60 = np.load(f) \n",
    "with open(f'data_outputs/{Jd}_{L}_{num_temps}.npy', 'rb') as f:\n",
    "    outs_60 = np.load(f) \n",
    "\n",
    "L = 80\n",
    "with open(f'data_errors/{Jd}_{L}_{num_temps}.npy', 'rb') as f:\n",
    "    errs_80 = np.load(f) \n",
    "with open(f'data_outputs/{Jd}_{L}_{num_temps}.npy', 'rb') as f:\n",
    "    outs_80 = np.load(f)"
   ]
  },
  {
   "cell_type": "code",
   "execution_count": 39,
   "id": "c0e6d2ad-0063-428f-9044-865ec073e2eb",
   "metadata": {},
   "outputs": [
    {
     "data": {
      "image/png": "[encoded data removed]",
      "text/plain": [
       "<Figure size 432x288 with 1 Axes>"
      ]
     },
     "metadata": {
      "needs_background": "light"
     },
     "output_type": "display_data"
    }
   ],
   "source": [
    "idx_20 = np.argmax(stds_err(outs_20))\n",
    "idx_30 = np.argmax(stds_err(outs_30))\n",
    "idx_60 = np.argmax(stds_err(outs_60))\n",
    "idx_80 = np.argmax(stds_err(outs_80))\n",
    "\n",
    "ls = np.array([1/L for L in [20, 30, 60, 80]])\n",
    "cs = np.array([T[idx_20], T[idx_30], T[idx_60], T[idx_80]])\n",
    "\n",
    "pl_06 = np.polyfit(np.log10(ls), np.log10(cs), 1)\n",
    "\n",
    "L_inf = np.arange(2, 1000, 0.01)\n",
    "\n",
    "plt.scatter(np.log10(ls), np.log10(cs), color='red', label='')\n",
    "plt.plot(np.log10(ls), np.poly1d(pl_06)(np.log10(ls)))\n",
    "plt.title('Jd = -0.6')\n",
    "plt.xlabel('1/L')\n",
    "plt.ylabel('T of max(error of pred)')\n",
    "#plt.xscale('log')\n",
    "#plt.yscale('log')\n",
    "#plt.savefig('images/00_100_max_std.png')\n",
    "max_bce.append(T[np.argmax(errs(errs_80))])\n",
    "max_pred.append(T[np.argmin(np.abs(0.5 - errs(outs_80)))])"
   ]
  },
  {
   "cell_type": "code",
   "execution_count": 40,
   "id": "e76a5f6b-9e2f-4b48-9f85-3070f3b758f3",
   "metadata": {},
   "outputs": [],
   "source": [
    "Jd = -0.7\n",
    "T_c = get_crit_T[Jd]\n",
    "T = np.linspace(T_c - 0.3, T_c + 0.3, num_temps)\n",
    "\n",
    "L = 10\n",
    "with open(f'data_errors/{Jd}_{L}_{num_temps}.npy', 'rb') as f:\n",
    "    errs_10 = np.load(f) \n",
    "with open(f'data_outputs/{Jd}_{L}_{num_temps}.npy', 'rb') as f:\n",
    "    outs_10 = np.load(f)\n",
    "    \n",
    "L = 20\n",
    "with open(f'data_errors/{Jd}_{L}_{num_temps}.npy', 'rb') as f:\n",
    "    errs_20 = np.load(f) \n",
    "with open(f'data_outputs/{Jd}_{L}_{num_temps}.npy', 'rb') as f:\n",
    "    outs_20 = np.load(f) \n",
    "    \n",
    "L = 30\n",
    "with open(f'data_errors/{Jd}_{L}_{num_temps}.npy', 'rb') as f:\n",
    "    errs_30 = np.load(f)\n",
    "with open(f'data_outputs/{Jd}_{L}_{num_temps}.npy', 'rb') as f:\n",
    "    outs_30 = np.load(f)\n",
    "    \n",
    "L = 60\n",
    "with open(f'data_errors/{Jd}_{L}_{num_temps}.npy', 'rb') as f:\n",
    "    errs_60 = np.load(f) \n",
    "with open(f'data_outputs/{Jd}_{L}_{num_temps}.npy', 'rb') as f:\n",
    "    outs_60 = np.load(f) \n",
    "\n",
    "L = 80\n",
    "with open(f'data_errors/{Jd}_{L}_{num_temps}.npy', 'rb') as f:\n",
    "    errs_80 = np.load(f) \n",
    "with open(f'data_outputs/{Jd}_{L}_{num_temps}.npy', 'rb') as f:\n",
    "    outs_80 = np.load(f)"
   ]
  },
  {
   "cell_type": "code",
   "execution_count": 41,
   "id": "21321969-1e0b-474b-a6a3-13ad7e7ea24a",
   "metadata": {},
   "outputs": [
    {
     "data": {
      "image/png": "[encoded data removed]",
      "text/plain": [
       "<Figure size 432x288 with 1 Axes>"
      ]
     },
     "metadata": {
      "needs_background": "light"
     },
     "output_type": "display_data"
    }
   ],
   "source": [
    "idx_20 = np.argmax(stds_err(outs_20))\n",
    "idx_30 = np.argmax(stds_err(outs_30))\n",
    "idx_60 = np.argmax(stds_err(outs_60))\n",
    "idx_80 = np.argmax(stds_err(outs_80))\n",
    "\n",
    "ls = np.array([1/L for L in [20, 30, 60, 80]])\n",
    "cs = np.array([T[idx_20], T[idx_30], T[idx_60], T[idx_80]])\n",
    "\n",
    "pl_07 = np.polyfit(np.log10(ls), np.log10(cs), 1)\n",
    "\n",
    "L_inf = np.arange(2, 1000, 0.01)\n",
    "\n",
    "plt.scatter(np.log10(ls), np.log10(cs), color='red', label='')\n",
    "plt.plot(np.log10(ls), np.poly1d(pl_07)(np.log10(ls)))\n",
    "plt.title('Jd = -0.7')\n",
    "plt.xlabel('1/L')\n",
    "plt.ylabel('T of max(error of pred)')\n",
    "#plt.xscale('log')\n",
    "#plt.yscale('log')\n",
    "#plt.savefig('images/00_100_max_std.png')\n",
    "max_bce.append(T[np.argmax(errs(errs_80))])\n",
    "max_pred.append(T[np.argmin(np.abs(0.5 - errs(outs_80)))])\n"
   ]
  },
  {
   "cell_type": "code",
   "execution_count": 42,
   "id": "892e9f48-5b78-4676-b059-a822aa9aeb43",
   "metadata": {},
   "outputs": [],
   "source": [
    "Jd = -0.8\n",
    "T_c = get_crit_T[Jd]\n",
    "T = np.linspace(T_c - 0.3, T_c + 0.3, num_temps)\n",
    "\n",
    "L = 10\n",
    "with open(f'data_errors/{Jd}_{L}_{num_temps}.npy', 'rb') as f:\n",
    "    errs_10 = np.load(f) \n",
    "with open(f'data_outputs/{Jd}_{L}_{num_temps}.npy', 'rb') as f:\n",
    "    outs_10 = np.load(f)\n",
    "    \n",
    "L = 20\n",
    "with open(f'data_errors/{Jd}_{L}_{num_temps}.npy', 'rb') as f:\n",
    "    errs_20 = np.load(f) \n",
    "with open(f'data_outputs/{Jd}_{L}_{num_temps}.npy', 'rb') as f:\n",
    "    outs_20 = np.load(f) \n",
    "    \n",
    "L = 30\n",
    "with open(f'data_errors/{Jd}_{L}_{num_temps}.npy', 'rb') as f:\n",
    "    errs_30 = np.load(f)\n",
    "with open(f'data_outputs/{Jd}_{L}_{num_temps}.npy', 'rb') as f:\n",
    "    outs_30 = np.load(f)\n",
    "    \n",
    "L = 60\n",
    "with open(f'data_errors/{Jd}_{L}_{num_temps}.npy', 'rb') as f:\n",
    "    errs_60 = np.load(f) \n",
    "with open(f'data_outputs/{Jd}_{L}_{num_temps}.npy', 'rb') as f:\n",
    "    outs_60 = np.load(f) \n",
    "\n",
    "L = 80\n",
    "with open(f'data_errors/{Jd}_{L}_{num_temps}.npy', 'rb') as f:\n",
    "    errs_80 = np.load(f) \n",
    "with open(f'data_outputs/{Jd}_{L}_{num_temps}.npy', 'rb') as f:\n",
    "    outs_80 = np.load(f)"
   ]
  },
  {
   "cell_type": "code",
   "execution_count": 43,
   "id": "bf140e24-8040-44f5-837d-a0ab17b743fd",
   "metadata": {},
   "outputs": [
    {
     "data": {
      "image/png": "[encoded data removed]",
      "text/plain": [
       "<Figure size 432x288 with 1 Axes>"
      ]
     },
     "metadata": {
      "needs_background": "light"
     },
     "output_type": "display_data"
    }
   ],
   "source": [
    "idx_20 = np.argmax(stds_err(outs_20))\n",
    "idx_30 = np.argmax(stds_err(outs_30))\n",
    "idx_60 = np.argmax(stds_err(outs_60))\n",
    "idx_80 = np.argmax(stds_err(outs_80))\n",
    "\n",
    "ls = np.array([1/L for L in [20, 30, 60, 80]])\n",
    "cs = np.array([T[idx_20], T[idx_30], T[idx_60], T[idx_80]])\n",
    "\n",
    "pl_08 = np.polyfit(np.log10(ls), np.log10(cs), 1)\n",
    "\n",
    "L_inf = np.arange(2, 1000, 0.01)\n",
    "\n",
    "plt.scatter(np.log10(ls), np.log10(cs), color='red', label='')\n",
    "plt.plot(np.log10(ls), np.poly1d(pl_08)(np.log10(ls)))\n",
    "plt.title('Jd = -0.8')\n",
    "plt.xlabel('1/L')\n",
    "plt.ylabel('T of max(error of pred)')\n",
    "#plt.xscale('log')\n",
    "#plt.yscale('log')\n",
    "#plt.savefig('images/00_100_max_std.png')\n",
    "max_bce.append(T[np.argmax(errs(errs_80))])\n",
    "max_pred.append(T[np.argmin(np.abs(0.5 - errs(outs_80)))])"
   ]
  },
  {
   "cell_type": "code",
   "execution_count": 44,
   "id": "896ca851-2929-4029-a804-be49cbea97ef",
   "metadata": {},
   "outputs": [],
   "source": [
    "Jd = -0.9\n",
    "T_c = get_crit_T[Jd]\n",
    "T = np.linspace(T_c - 0.3, T_c + 0.3, num_temps)\n",
    "\n",
    "L = 10\n",
    "with open(f'data_errors/{Jd}_{L}_{num_temps}.npy', 'rb') as f:\n",
    "    errs_10 = np.load(f) \n",
    "with open(f'data_outputs/{Jd}_{L}_{num_temps}.npy', 'rb') as f:\n",
    "    outs_10 = np.load(f)\n",
    "    \n",
    "L = 20\n",
    "with open(f'data_errors/{Jd}_{L}_{num_temps}.npy', 'rb') as f:\n",
    "    errs_20 = np.load(f) \n",
    "with open(f'data_outputs/{Jd}_{L}_{num_temps}.npy', 'rb') as f:\n",
    "    outs_20 = np.load(f) \n",
    "    \n",
    "L = 30\n",
    "with open(f'data_errors/{Jd}_{L}_{num_temps}.npy', 'rb') as f:\n",
    "    errs_30 = np.load(f)\n",
    "with open(f'data_outputs/{Jd}_{L}_{num_temps}.npy', 'rb') as f:\n",
    "    outs_30 = np.load(f)\n",
    "    \n",
    "L = 60\n",
    "with open(f'data_errors/{Jd}_{L}_{num_temps}.npy', 'rb') as f:\n",
    "    errs_60 = np.load(f) \n",
    "with open(f'data_outputs/{Jd}_{L}_{num_temps}.npy', 'rb') as f:\n",
    "    outs_60 = np.load(f) \n",
    "\n",
    "L = 80\n",
    "with open(f'data_errors/{Jd}_{L}_{num_temps}.npy', 'rb') as f:\n",
    "    errs_80 = np.load(f) \n",
    "with open(f'data_outputs/{Jd}_{L}_{num_temps}.npy', 'rb') as f:\n",
    "    outs_80 = np.load(f)"
   ]
  },
  {
   "cell_type": "code",
   "execution_count": 45,
   "id": "49f95ee0-e817-4bbe-ad67-2f59d63ae55e",
   "metadata": {},
   "outputs": [
    {
     "data": {
      "image/png": "[encoded data removed]",
      "text/plain": [
       "<Figure size 432x288 with 1 Axes>"
      ]
     },
     "metadata": {
      "needs_background": "light"
     },
     "output_type": "display_data"
    }
   ],
   "source": [
    "idx_20 = np.argmax(stds_err(outs_20)[T>0])\n",
    "idx_30 = np.argmax(stds_err(outs_30)[T>0])\n",
    "idx_60 = np.argmax(stds_err(outs_60)[T>0])\n",
    "idx_80 = np.argmax(stds_err(outs_80)[T>0])\n",
    "\n",
    "ls = np.array([1/L for L in [20, 30, 60, 80]])\n",
    "cs = np.array([T[idx_20], T[idx_30], T[idx_60], T[idx_80]])\n",
    "\n",
    "pl_09 = np.polyfit(np.log10(ls), np.log10(cs), 1)\n",
    "\n",
    "L_inf = np.arange(2, 1000, 0.01)\n",
    "\n",
    "plt.scatter(np.log10(ls), np.log10(cs), color='red', label='')\n",
    "plt.plot(np.log10(ls), np.poly1d(pl_09)(np.log10(ls)))\n",
    "plt.title('Jd = -0.9')\n",
    "plt.xlabel('1/L')\n",
    "plt.ylabel('T of max(error of pred)')\n",
    "#plt.xscale('log')\n",
    "#plt.yscale('log')\n",
    "#plt.savefig('images/00_100_max_std.png')\n",
    "max_bce.append(T[np.argmax(errs(errs_80)[T>0])])\n",
    "max_pred.append(T[np.argmin(np.abs(0.5 - errs(outs_80)[T>0]))])"
   ]
  },
  {
   "cell_type": "code",
   "execution_count": 46,
   "id": "1b3b453c-739c-4b65-98b4-578ad873727a",
   "metadata": {},
   "outputs": [
    {
     "data": {
      "text/plain": [
       "[2.2468065276285856,\n",
       " 2.077446617546977,\n",
       " 1.9550242307050245,\n",
       " 1.7910869858783842,\n",
       " 1.5958973740387934,\n",
       " 1.4171082626850584,\n",
       " 1.1561818878328716,\n",
       " 0.8443228673317974,\n",
       " 0.7862915854507395,\n",
       " 0.37294132367647775]"
      ]
     },
     "execution_count": 46,
     "metadata": {},
     "output_type": "execute_result"
    }
   ],
   "source": [
    "max_std = [10**(pl_00[1]), 10**(pl_01[1]), 10**(pl_02[1]), \n",
    "           10**(pl_03[1]), 10**(pl_04[1]), 10**(pl_05[1]), \n",
    "           10**(pl_06[1]), 10**(pl_07[1]), 10**(pl_08[1]), 10**(pl_09[1])]\n",
    "max_std"
   ]
  },
  {
   "cell_type": "code",
   "execution_count": 47,
   "id": "978dafdc-d608-498c-9086-b3c855b8a0c7",
   "metadata": {},
   "outputs": [
    {
     "data": {
      "text/plain": [
       "Text(0, 0.5, '$\\\\dfrac{T}{J}$')"
      ]
     },
     "execution_count": 47,
     "metadata": {},
     "output_type": "execute_result"
    },
    {
     "data": {
      "image/png": "[encoded data removed]",
      "text/plain": [
       "<Figure size 432x288 with 1 Axes>"
      ]
     },
     "metadata": {
      "needs_background": "light"
     },
     "output_type": "display_data"
    }
   ],
   "source": [
    "roots = [2.2691853142129728, 2.104982167992544, 1.932307699120554, 1.749339162933206, 1.5536238493280832, 1.34187327905057, 1.109960313758399, 0.8541630993606272, 0.5762735442012712, 0.2885386111960936, 0.03198372863548067]\n",
    "jds = [0.0, -0.1, -0.2, -0.3, -0.4, -0.5, -0.6, -0.7, -0.8, -0.9, -1.0]\n",
    "plt.plot(jds, roots)\n",
    "plt.scatter([0.0, -0.1, -0.2, -0.3, -0.4, -0.5, -0.6, -0.7, -0.8, -0.9], max_std, color='black', s=70)\n",
    "plt.xlabel(r'$\\dfrac{J_d}{J}$')\n",
    "plt.ylabel(r'$\\dfrac{T}{J}$')\n",
    "#plt.savefig('images/temps_with_pred.png')"
   ]
  },
  {
   "cell_type": "code",
   "execution_count": 48,
   "id": "0a43eafe-0f34-4b64-8e19-d103cfaddbee",
   "metadata": {},
   "outputs": [
    {
     "data": {
      "text/plain": [
       "[2.2722156172432757,\n",
       " 2.108012471022847,\n",
       " 1.935338002150857,\n",
       " 1.752369465963509,\n",
       " 1.5566541523583863,\n",
       " 1.3449035820808732,\n",
       " 1.1129906167887023,\n",
       " 0.8571934023909302,\n",
       " 0.5793038472315744,\n",
       " 0.27944770210518444]"
      ]
     },
     "execution_count": 48,
     "metadata": {},
     "output_type": "execute_result"
    }
   ],
   "source": [
    "max_bce"
   ]
  },
  {
   "cell_type": "code",
   "execution_count": 49,
   "id": "75119350-b89e-479b-8258-fe0f8b04a53e",
   "metadata": {},
   "outputs": [
    {
     "data": {
      "text/plain": [
       "Text(0, 0.5, '$\\\\dfrac{T}{J}$')"
      ]
     },
     "execution_count": 49,
     "metadata": {},
     "output_type": "execute_result"
    },
    {
     "data": {
      "image/png": "[encoded data removed]",
      "text/plain": [
       "<Figure size 432x288 with 1 Axes>"
      ]
     },
     "metadata": {
      "needs_background": "light"
     },
     "output_type": "display_data"
    }
   ],
   "source": [
    "roots = [2.2691853142129728, 2.104982167992544, 1.932307699120554, 1.749339162933206, 1.5536238493280832, 1.34187327905057, 1.109960313758399, 0.8541630993606272, 0.5762735442012712, 0.2885386111960936, 0.03198372863548067]\n",
    "jds = [0.0, -0.1, -0.2, -0.3, -0.4, -0.5, -0.6, -0.7, -0.8, -0.9, -1.0]\n",
    "plt.plot(jds, roots)\n",
    "plt.scatter([0.0, -0.1, -0.2, -0.3, -0.4, -0.5, -0.6, -0.7, -0.8, -0.9], max_bce, color='black', s=70)\n",
    "plt.xlabel(r'$\\dfrac{J_d}{J}$')\n",
    "plt.ylabel(r'$\\dfrac{T}{J}$')\n",
    "#plt.savefig('images/temps_with_pred.png')"
   ]
  },
  {
   "cell_type": "code",
   "execution_count": 50,
   "id": "85ecf73c-1ad2-41ed-99f3-8fca9431f44b",
   "metadata": {},
   "outputs": [
    {
     "data": {
      "text/plain": [
       "[2.2782762233038816,\n",
       " 2.114073077083453,\n",
       " 1.947459214272069,\n",
       " 1.770551284145327,\n",
       " 1.5748359705402044,\n",
       " 1.3691460063232974,\n",
       " 1.1493542531523384,\n",
       " 0.9117388569363847,\n",
       " 0.6338493017770288,\n",
       " 0.30369012634760867]"
      ]
     },
     "execution_count": 50,
     "metadata": {},
     "output_type": "execute_result"
    }
   ],
   "source": [
    "max_pred"
   ]
  },
  {
   "cell_type": "code",
   "execution_count": 51,
   "id": "fbc25d00-3541-45c2-84de-55c651aad3d1",
   "metadata": {},
   "outputs": [
    {
     "data": {
      "text/plain": [
       "Text(0, 0.5, '$\\\\dfrac{T}{J}$')"
      ]
     },
     "execution_count": 51,
     "metadata": {},
     "output_type": "execute_result"
    },
    {
     "data": {
      "image/png": "[encoded data removed]",
      "text/plain": [
       "<Figure size 432x288 with 1 Axes>"
      ]
     },
     "metadata": {
      "needs_background": "light"
     },
     "output_type": "display_data"
    }
   ],
   "source": [
    "roots = [2.2691853142129728, 2.104982167992544, 1.932307699120554, 1.749339162933206, 1.5536238493280832, 1.34187327905057, 1.109960313758399, 0.8541630993606272, 0.5762735442012712, 0.2885386111960936, 0.03198372863548067]\n",
    "jds = [0.0, -0.1, -0.2, -0.3, -0.4, -0.5, -0.6, -0.7, -0.8, -0.9, -1.0]\n",
    "plt.plot(jds, roots)\n",
    "plt.scatter([0.0, -0.1, -0.2, -0.3, -0.4, -0.5, -0.6, -0.7, -0.8, -0.9], max_pred, color='black', s=70)\n",
    "plt.xlabel(r'$\\dfrac{J_d}{J}$')\n",
    "plt.ylabel(r'$\\dfrac{T}{J}$')\n",
    "#plt.savefig('images/temps_with_pred.png')"
   ]
  },
  {
   "cell_type": "code",
   "execution_count": null,
   "id": "c19db8c0-8e0d-400e-bed0-656b6214ec9c",
   "metadata": {},
   "outputs": [],
   "source": []
  }
 ],
 "metadata": {
  "kernelspec": {
   "display_name": "Python [.conda-mc_lib_env]",
   "language": "python",
   "name": "conda-env-.conda-mc_lib_env-py"
  },
  "language_info": {
   "codemirror_mode": {
    "name": "ipython",
    "version": 3
   },
   "file_extension": ".py",
   "mimetype": "text/x-python",
   "name": "python",
   "nbconvert_exporter": "python",
   "pygments_lexer": "ipython3",
   "version": "3.7.11"
  }
 },
 "nbformat": 4,
 "nbformat_minor": 5
}
