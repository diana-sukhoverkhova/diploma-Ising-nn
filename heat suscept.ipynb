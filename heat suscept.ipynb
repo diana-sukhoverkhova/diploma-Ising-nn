{
 "cells": [
  {
   "cell_type": "code",
   "execution_count": 1,
   "id": "c82eeca8-8c09-4a0a-94fd-10c6084d64cc",
   "metadata": {},
   "outputs": [],
   "source": [
    "import matplotlib.pyplot as plt\n",
    "import numpy as np\n",
    "import os\n",
    "from tqdm import tqdm\n",
    "import pandas as pd\n",
    "%matplotlib inline\n",
    "\n",
    "import warnings\n",
    "warnings.filterwarnings(\"ignore\")\n",
    "\n",
    "plt.rcParams['axes.grid'] = False\n",
    "\n",
    "roots = [2.2691853142129728, 2.104982167992544, 1.932307699120554, 1.749339162933206, 1.5536238493280832, 1.34187327905057, 1.109960313758399, 0.8541630993606272, 0.5762735442012712, 0.2885386111960936]\n",
    "jds = [0.0, -0.1, -0.2, -0.3, -0.4, -0.5, -0.6, -0.7, -0.8, -0.9]\n",
    "get_crit_T = dict(zip(jds, roots))\n",
    "num_temps = 100\n",
    "\n",
    "def errs(errs):\n",
    "    return np.array([sum(errs[i*512:(i+1)*512])/512 for i in range(num_temps)])\n",
    "\n",
    "def stds_err(errs):\n",
    "    return np.array([np.std(errs[i*512:(i+1)*512]) for i in range(num_temps)])\n",
    "\n",
    "markers=['.', '^', 'X', 's', '*', 'p']\n",
    "colors=['blue', 'orange', 'green', 'red', 'm', 'gold']"
   ]
  },
  {
   "cell_type": "code",
   "execution_count": 2,
   "id": "97a91b09-8245-4220-adbb-9d13351bd16b",
   "metadata": {},
   "outputs": [],
   "source": [
    "Jd = 0.0\n",
    "J = 1.0\n",
    "T_c = get_crit_T[Jd]\n",
    "T = np.round(np.linspace(T_c - 0.3, T_c + 0.3, num_temps), 4)\n",
    "\n",
    "Ls = [20, 30, 60, 80, 120]\n",
    "\n",
    "spins_ = {L : [] for L in Ls}\n",
    "for i, L in enumerate(Ls):\n",
    "    if Jd == 0.0:\n",
    "        PATH = f'data_spins/{Jd}_train/spins_{L}_{T[0]}_{T[-1]}.npz'\n",
    "        spins_[L].append(np.load(PATH))\n",
    "    # with open(f'data_spins/{Jd}_test/spins_{L}_{T[0]}_{T[-1]}.npz', 'rb') as f:\n",
    "    #     spins_[L].append(np.load(f)) \n",
    "    PATH = f'data_spins/{Jd}_test/spins_{L}_{T[0]}_{T[-1]}.npz'\n",
    "    spins_[L].append(np.load(PATH))"
   ]
  },
  {
   "cell_type": "code",
   "execution_count": 16,
   "id": "9b5e8d2d-b22c-4399-a36a-0ce693c43e96",
   "metadata": {},
   "outputs": [
    {
     "data": {
      "text/plain": [
       "(20, 20)"
      ]
     },
     "execution_count": 16,
     "metadata": {},
     "output_type": "execute_result"
    }
   ],
   "source": [
    "spins_[20][0][f'T_0'][0].shape"
   ]
  },
  {
   "cell_type": "code",
   "execution_count": 15,
   "id": "1989887e-8249-4c14-a567-e8d293e8fee3",
   "metadata": {},
   "outputs": [
    {
     "data": {
      "text/plain": [
       "(10, 25)"
      ]
     },
     "execution_count": 15,
     "metadata": {},
     "output_type": "execute_result"
    }
   ],
   "source": [
    "a = np.zeros((10, 5, 5))\n",
    "a = a.reshape(a.shape[0], -1)\n",
    "a.shape"
   ]
  },
  {
   "cell_type": "markdown",
   "id": "b7bc3b05-f1af-4e13-a355-f8911a7cf54b",
   "metadata": {},
   "source": [
    "### $\\chi(T)$"
   ]
  },
  {
   "cell_type": "code",
   "execution_count": 26,
   "id": "0d09fb26-4afd-455d-bab9-f0d224fedf67",
   "metadata": {},
   "outputs": [],
   "source": [
    "def suscept_per_t(spins, L, t):\n",
    "    \"\"\"\n",
    "    spins (num_conf, L, L): tensor of Ising lattices at temperature t\n",
    "    \"\"\"\n",
    "    m2 = 0.\n",
    "    m_2 = 0.\n",
    "    num_conf = spins.shape[0]\n",
    "    for i in range(num_conf):\n",
    "        m2 += ((np.sum(spins[i])) / L**2)**2\n",
    "        m_2 += np.abs((np.sum(spins[i])) / L**2)\n",
    "    m2 = m2 / num_conf\n",
    "    m_2 = (m_2 / num_conf)**2\n",
    "    return L**2 / t * (m2 - m_2)"
   ]
  },
  {
   "cell_type": "code",
   "execution_count": 27,
   "id": "a1fd7a21-ec81-42ef-b786-8a92a8644792",
   "metadata": {},
   "outputs": [],
   "source": [
    "suscept = {L : [] for L in Ls}\n",
    "for L in Ls:\n",
    "    for j in range(num_temps):\n",
    "        suscept[L].append(suscept_per_t(spins_[L][0][f'T_{j}'], L, T[j]))"
   ]
  },
  {
   "cell_type": "code",
   "execution_count": 28,
   "id": "6f6d34a7-e069-42c7-af8f-dd16d9b93e06",
   "metadata": {},
   "outputs": [
    {
     "data": {
      "image/png": "[encoded data removed]",
      "text/plain": [
       "<Figure size 432x288 with 1 Axes>"
      ]
     },
     "metadata": {
      "needs_background": "light"
     },
     "output_type": "display_data"
    }
   ],
   "source": [
    "plt.scatter(T, suscept[20], c=colors[0], label='L=20', marker=markers[0], s=16)\n",
    "plt.scatter(T, suscept[30], c=colors[1], label='L=30', marker=markers[1], s=16)\n",
    "plt.scatter(T, suscept[60], c=colors[2], label='L=60', marker=markers[2], s=16)\n",
    "plt.scatter(T, suscept[80], c=colors[3], label='L=80', marker=markers[3], s=16)\n",
    "plt.scatter(T, suscept[120], c=colors[4], label='L=120', marker=markers[4], s=16)\n",
    "plt.legend()\n",
    "plt.xlabel('T')\n",
    "plt.ylabel('$\\chi(T)$')\n",
    "plt.show()"
   ]
  },
  {
   "cell_type": "code",
   "execution_count": 29,
   "id": "1da3bbdf-3723-4709-bacf-98fae311cc03",
   "metadata": {},
   "outputs": [
    {
     "data": {
      "text/plain": [
       "<matplotlib.legend.Legend at 0x2b483b00db90>"
      ]
     },
     "execution_count": 29,
     "metadata": {},
     "output_type": "execute_result"
    },
    {
     "data": {
      "image/png": "[encoded data removed]",
      "text/plain": [
       "<Figure size 432x288 with 1 Axes>"
      ]
     },
     "metadata": {
      "needs_background": "light"
     },
     "output_type": "display_data"
    }
   ],
   "source": [
    "from scipy.optimize import curve_fit\n",
    "\n",
    "chi_maxs = [T[np.argmax(suscept[L])] for L in Ls]\n",
    "\n",
    "def line(x, a, b):\n",
    "    return a*x + b \n",
    "\n",
    "def line_fit(y, x):\n",
    "    popt, pcov = curve_fit(line, xdata=x, ydata=y, absolute_sigma=False, maxfev=100000)\n",
    "    return popt, pcov\n",
    "\n",
    "ls = np.array([1/L for L in [20, 30, 60, 80, 120]])\n",
    "\n",
    "pl_, pcov_ = line_fit(y=np.log(np.abs(chi_maxs)), x=np.log(ls))\n",
    "\n",
    "perr_line = np.sqrt(np.diag(pcov_))\n",
    "\n",
    "plt.errorbar(ls, chi_maxs, yerr=6e-3, fmt=\"o\", color='black', label='$\\chi$')\n",
    "\n",
    "plt.plot(ls, np.exp(line(np.log(ls), pl_[0], pl_[1])), color='black', label='$\\chi\\sim$1\\L^{0:.4f}({1:.4f})'.format(round(pl_[0], 4), round(perr_line[0], 4)))\n",
    "\n",
    "#plt.title(f'M = {M}')\n",
    "plt.xlabel('1/L')\n",
    "plt.ylabel('$\\chi$')\n",
    "plt.xscale('log')\n",
    "plt.yscale('log')\n",
    "plt.legend()\n",
    "# plt.savefig(f'images/{M}-mu.png')"
   ]
  },
  {
   "cell_type": "code",
   "execution_count": 3,
   "id": "d7f8c686-deb8-4814-a0a6-5053da250d99",
   "metadata": {},
   "outputs": [],
   "source": [
    "%load_ext cython"
   ]
  },
  {
   "cell_type": "code",
   "execution_count": 28,
   "id": "bde9a50e-d26c-432d-99c4-2e2ed61f5f3b",
   "metadata": {},
   "outputs": [
    {
     "name": "stderr",
     "output_type": "stream",
     "text": [
      "\n",
      "Error compiling Cython file:\n",
      "------------------------------------------------------------\n",
      "...\n",
      "    for j in range(spins.shape[0]):\n",
      "        spins[j] = 1 if rndm.uniform() > 0.5 else -1\n",
      "        \n",
      "        \n",
      "@cython.boundscheck(False)\n",
      "@cython.wraparound(False)\n",
      "^\n",
      "------------------------------------------------------------\n",
      "\n",
      "/home/ddsukhoverkhova/.cache/ipython/cython/_cython_magic_02010250f62ceed9b27866e5552346fe.pyx:21:0: Cdef functions/classes cannot take arbitrary decorators.\n"
     ]
    }
   ],
   "source": [
    "%%cython -a --cplus --compile-args=-std=c++11 -I</home/ddsukhoverkhova/.conda/envs/mc_lib_env/lib/python3.7/site-packages/mc_lib>\n",
    "import numpy as np\n",
    "cimport numpy as cnp\n",
    "\n",
    "from libc.math cimport exp, tanh\n",
    "from mc_lib.rndm cimport RndmWrapper\n",
    "from mc_lib.lattices import tabulate_neighbors\n",
    "from mc_lib.observable cimport RealObservable\n",
    "\n",
    "import time\n",
    "import os\n",
    "\n",
    "\n",
    "cdef RndmWrapper rndm = RndmWrapper((1234, 0)) # global variable\n",
    "    \n",
    "cdef void init_spins(cnp.int32_t[::1] spins): \n",
    "    for j in range(spins.shape[0]):\n",
    "        spins[j] = 1 if rndm.uniform() > 0.5 else -1\n",
    "        \n",
    "        \n",
    "# @cython.boundscheck(False)\n",
    "# @cython.wraparound(False)\n",
    "cdef double energy(double[::1] spins, \n",
    "                   double[:, ::1] neighbors,\n",
    "                  const double[:,::1] Js):\n",
    "\n",
    "    cdef:\n",
    "        double ene = 0.0\n",
    "        Py_ssize_t site, site1, num_neighb\n",
    "\n",
    "    for site in range(spins.shape[0]):\n",
    "        num_neighb = neighbors[site, 0]\n",
    "        for j in range(1, num_neighb+1):\n",
    "            site1 = neighbors[site, j]\n",
    "            ene += -1 * Js[site, site1] * spins[site] * spins[site1] \n",
    "    \n",
    "    return ene / 2.0\n",
    "\n",
    "\n",
    "# @cython.boundscheck(False)\n",
    "# @cython.wraparound(False)\n",
    "cdef void flip_spin(cnp.int32_t[::1] spins, \n",
    "                    cnp.int32_t[:, ::1] neighbors,\n",
    "                    double beta,\n",
    "                    const double[:,::1] Js,\n",
    "                    const double[::1] ratios,\n",
    "                    int nDim1,\n",
    "                    int nDim2): \n",
    "    cdef:\n",
    "        Py_ssize_t site = int(spins.shape[0] * rndm.uniform())\n",
    "        Py_ssize_t site1\n",
    "\n",
    "    cdef int num_neighb = neighbors[site, 0]\n",
    "    cdef long summ1 = 0 # J\n",
    "    cdef long summ2 = 0 # Jd\n",
    "    for j in range(1, num_neighb + 1):\n",
    "        site1 = neighbors[site, j]\n",
    "        if Js[site,site1] == 1.0: # FIXME: wider range of J\n",
    "            summ1 += spins[site1] #* spins[site] * Js[site,site1]\n",
    "        else:\n",
    "            summ2 += spins[site1]\n",
    "    \n",
    "    cdef double ratio = ratios[nDim1 + summ1 * spins[site] + nDim2 + summ2 * spins[site] + nDim1 * ((summ1 * spins[site] + nDim1) // 2)] #+ ratios2[nDim2 + summ2 * spins[site]]) #exp(-2.0 * beta * summ )\n",
    "    \n",
    "    if ratio < 1:\n",
    "        if rndm.uniform() > ratio:\n",
    "            return\n",
    "\n",
    "    spins[site] *= -1\n",
    "    \n",
    "    \n",
    "cdef void get_J( double[:,::1] Js, double J, double Jd, int L1, int L2 , int L3 = 1):\n",
    "  \n",
    "    if L3 == 1:\n",
    "        for i in range(L1*L2):\n",
    "            Js[i, ((i // L2 + 1) % L1 * L2 )  + (i + 1) % L2 ] = Jd\n",
    "            Js[i, ((i // L2  - 1) % L1 * L2 )  + (i - 1) % L2 ] = Jd\n",
    "            Js[i, (i // L2) * L2 + (i + 1) % L2] = J \n",
    "            Js[i, (i + L2) % (L1*L2)] = J\n",
    "            Js[i, (i // L2) * L2 + (i - 1) % L2] = J\n",
    "            Js[i, (i - L2) % (L1*L2)] = J\n",
    "        return\n",
    "    \n",
    "    else:\n",
    "        return\n",
    "\n",
    "    \n",
    "@cython.boundscheck(False)\n",
    "# @cython.wraparound(False)\n",
    "# @cython.cdivision(False)\n",
    "cdef double _get_energy_magn_jd(Py_ssize_t L,\n",
    "             double J, double Jd,\n",
    "             double[::1] spins):\n",
    "\n",
    "    \n",
    "    cdef:\n",
    "        double[:, ::1] neighbors = np.asarray(tabulate_neighbors(L, kind='triang'), double)\n",
    "        #cnp.int32_t[:, ::1] neighbors = np.asarray(tabulate_neighbors((L, L, 1), kind='sc'), np.int32)\n",
    "        \n",
    "    cdef:\n",
    "        int i\n",
    "        double av_en = 0., Z = 0., magn = 0., av_magn=0., en = 0.\n",
    "\n",
    "    cdef double[:,::1] Js = np.zeros((L*L, L*L)) \n",
    "    get_J(Js, J, Jd, L, L)\n",
    "\n",
    "    \n",
    "    for i in range(L*L):\n",
    "        magn += spins[i]\n",
    "        \n",
    "    magn = magn / L**2\n",
    "        \n",
    "    magn_2 = magn**2 / L**2\n",
    "        \n",
    "    en = energy(spins, neighbors, Js) / L**2\n",
    "\n",
    "#     m2.add_measurement(magn**2)\n",
    "#     m4.add_measurement(magn**4)\n",
    "#     m[sweep] = magn\n",
    "        \n",
    "    return (en, magn, magn_2)  \n",
    "\n",
    "def get_energy_magn_jd(L, J, Jd, spins):\n",
    "    return _get_energy_magn_jd(L, J, Jd, spins)"
   ]
  },
  {
   "cell_type": "code",
   "execution_count": 26,
   "id": "16d44910-4f8a-4b7f-9352-7891840d58b6",
   "metadata": {},
   "outputs": [
    {
     "ename": "ValueError",
     "evalue": "Buffer dtype mismatch, expected 'int32_t' but got 'double'",
     "output_type": "error",
     "traceback": [
      "\u001b[0;31m---------------------------------------------------------------------------\u001b[0m",
      "\u001b[0;31mValueError\u001b[0m                                Traceback (most recent call last)",
      "\u001b[0;32m<timed exec>\u001b[0m in \u001b[0;36m<module>\u001b[0;34m\u001b[0m\n",
      "\u001b[0;32m_cython_magic_e19c841ca6e6b91470ecfbaffce5f108.pyx\u001b[0m in \u001b[0;36m_cython_magic_e19c841ca6e6b91470ecfbaffce5f108.get_energy_magn_jd\u001b[0;34m()\u001b[0m\n",
      "\u001b[0;31mValueError\u001b[0m: Buffer dtype mismatch, expected 'int32_t' but got 'double'"
     ]
    }
   ],
   "source": [
    "%%time\n",
    "suscept = {L : [] for L in Ls}\n",
    "for L in Ls:\n",
    "    for j in range(num_temps):\n",
    "        for snap in range(spins_[L][0][f'T_{j}'].shape[0]):\n",
    "            suscept[L].append(get_energy_magn_jd(L, J, Jd, spins_[L][0][f'T_{j}'][snap].reshape(-1)))"
   ]
  },
  {
   "cell_type": "markdown",
   "id": "3c1f6cbf-4595-4bf0-ab52-62cbc0b0e4e8",
   "metadata": {},
   "source": [
    "### $C(T)$"
   ]
  },
  {
   "cell_type": "code",
   "execution_count": 4,
   "id": "ab8b800d-72ff-45d5-a795-e1682cacfaeb",
   "metadata": {},
   "outputs": [],
   "source": [
    "def H(lattice, L, J, Jd):\n",
    "    \"\"\"\n",
    "    lattice (L, L): Ising lattice\n",
    "    \"\"\"\n",
    "    en = 0.\n",
    "    for i in range(L):\n",
    "        for j in range(L):\n",
    "            en -= lattice[i, j] * lattice[i, (j + 1) // L] * J + lattice[i, j] * lattice[(i + 1) // L, (j + 1) // L] * Jd\n",
    "    return en\n",
    "\n",
    "def cap_per_t(spins, L, t, J, Jd):\n",
    "    \"\"\"\n",
    "    spins (num_conf, L, L): tensor of Ising lattices at temperature t\n",
    "    \"\"\"\n",
    "    e2 = 0.\n",
    "    e_2 = 0.\n",
    "    num_conf = spins.shape[0]\n",
    "    for i in range(num_conf):\n",
    "        e2 += (H(spins[i], L, J, Jd) / L**2)**2\n",
    "        e_2 += H(spins[i], L, J, Jd) / L**2\n",
    "    e2 = e2 / num_conf\n",
    "    e_2 = (e_2 / num_conf)**2\n",
    "    return L**2 / t**2 * (e2 - e_2)"
   ]
  },
  {
   "cell_type": "code",
   "execution_count": null,
   "id": "89945d7a-dec9-4dcc-9550-edc073760a47",
   "metadata": {},
   "outputs": [],
   "source": []
  },
  {
   "cell_type": "code",
   "execution_count": 6,
   "id": "fa7f4c56-b4b6-4e43-88ab-3b4f4510f01e",
   "metadata": {},
   "outputs": [
    {
     "name": "stderr",
     "output_type": "stream",
     "text": [
      "  0%|          | 0/5 [00:00<?, ?it/s]\n",
      "  0%|          | 0/100 [00:00<?, ?it/s]\u001b[A\n",
      "  1%|          | 1/100 [00:01<02:22,  1.44s/it]\u001b[A\n",
      "  2%|▏         | 2/100 [00:02<02:15,  1.38s/it]\u001b[A\n",
      "  3%|▎         | 3/100 [00:04<02:11,  1.36s/it]\u001b[A\n",
      "  4%|▍         | 4/100 [00:05<02:09,  1.35s/it]\u001b[A\n",
      "  5%|▌         | 5/100 [00:06<02:07,  1.35s/it]\u001b[A\n",
      "  6%|▌         | 6/100 [00:08<02:19,  1.48s/it]\u001b[A\n",
      "  0%|          | 0/5 [00:08<?, ?it/s]\n"
     ]
    },
    {
     "ename": "KeyboardInterrupt",
     "evalue": "",
     "output_type": "error",
     "traceback": [
      "\u001b[0;31m---------------------------------------------------------------------------\u001b[0m",
      "\u001b[0;31mKeyboardInterrupt\u001b[0m                         Traceback (most recent call last)",
      "\u001b[0;32m/tmp/job-1299520/ipykernel_211472/3268487027.py\u001b[0m in \u001b[0;36m<module>\u001b[0;34m\u001b[0m\n\u001b[1;32m      2\u001b[0m \u001b[0;32mfor\u001b[0m \u001b[0mL\u001b[0m \u001b[0;32min\u001b[0m \u001b[0mtqdm\u001b[0m\u001b[0;34m(\u001b[0m\u001b[0mLs\u001b[0m\u001b[0;34m)\u001b[0m\u001b[0;34m:\u001b[0m\u001b[0;34m\u001b[0m\u001b[0;34m\u001b[0m\u001b[0m\n\u001b[1;32m      3\u001b[0m     \u001b[0;32mfor\u001b[0m \u001b[0mj\u001b[0m \u001b[0;32min\u001b[0m \u001b[0mtqdm\u001b[0m\u001b[0;34m(\u001b[0m\u001b[0mrange\u001b[0m\u001b[0;34m(\u001b[0m\u001b[0mnum_temps\u001b[0m\u001b[0;34m)\u001b[0m\u001b[0;34m)\u001b[0m\u001b[0;34m:\u001b[0m\u001b[0;34m\u001b[0m\u001b[0;34m\u001b[0m\u001b[0m\n\u001b[0;32m----> 4\u001b[0;31m         \u001b[0mcapacity\u001b[0m\u001b[0;34m[\u001b[0m\u001b[0mL\u001b[0m\u001b[0;34m]\u001b[0m\u001b[0;34m.\u001b[0m\u001b[0mappend\u001b[0m\u001b[0;34m(\u001b[0m\u001b[0mcap_per_t\u001b[0m\u001b[0;34m(\u001b[0m\u001b[0mspins_\u001b[0m\u001b[0;34m[\u001b[0m\u001b[0mL\u001b[0m\u001b[0;34m]\u001b[0m\u001b[0;34m[\u001b[0m\u001b[0;36m0\u001b[0m\u001b[0;34m]\u001b[0m\u001b[0;34m[\u001b[0m\u001b[0;34mf'T_{j}'\u001b[0m\u001b[0;34m]\u001b[0m\u001b[0;34m,\u001b[0m \u001b[0mL\u001b[0m\u001b[0;34m,\u001b[0m \u001b[0mT\u001b[0m\u001b[0;34m[\u001b[0m\u001b[0mj\u001b[0m\u001b[0;34m]\u001b[0m\u001b[0;34m,\u001b[0m \u001b[0mJ\u001b[0m\u001b[0;34m,\u001b[0m \u001b[0mJd\u001b[0m\u001b[0;34m)\u001b[0m\u001b[0;34m)\u001b[0m\u001b[0;34m\u001b[0m\u001b[0;34m\u001b[0m\u001b[0m\n\u001b[0m",
      "\u001b[0;32m/tmp/job-1299520/ipykernel_211472/3344352481.py\u001b[0m in \u001b[0;36mcap_per_t\u001b[0;34m(spins, L, t, J, Jd)\u001b[0m\n\u001b[1;32m     18\u001b[0m     \u001b[0;32mfor\u001b[0m \u001b[0mi\u001b[0m \u001b[0;32min\u001b[0m \u001b[0mrange\u001b[0m\u001b[0;34m(\u001b[0m\u001b[0mnum_conf\u001b[0m\u001b[0;34m)\u001b[0m\u001b[0;34m:\u001b[0m\u001b[0;34m\u001b[0m\u001b[0;34m\u001b[0m\u001b[0m\n\u001b[1;32m     19\u001b[0m         \u001b[0me2\u001b[0m \u001b[0;34m+=\u001b[0m \u001b[0;34m(\u001b[0m\u001b[0mH\u001b[0m\u001b[0;34m(\u001b[0m\u001b[0mspins\u001b[0m\u001b[0;34m[\u001b[0m\u001b[0mi\u001b[0m\u001b[0;34m]\u001b[0m\u001b[0;34m,\u001b[0m \u001b[0mL\u001b[0m\u001b[0;34m,\u001b[0m \u001b[0mJ\u001b[0m\u001b[0;34m,\u001b[0m \u001b[0mJd\u001b[0m\u001b[0;34m)\u001b[0m \u001b[0;34m/\u001b[0m \u001b[0mL\u001b[0m\u001b[0;34m**\u001b[0m\u001b[0;36m2\u001b[0m\u001b[0;34m)\u001b[0m\u001b[0;34m**\u001b[0m\u001b[0;36m2\u001b[0m\u001b[0;34m\u001b[0m\u001b[0;34m\u001b[0m\u001b[0m\n\u001b[0;32m---> 20\u001b[0;31m         \u001b[0me_2\u001b[0m \u001b[0;34m+=\u001b[0m \u001b[0mH\u001b[0m\u001b[0;34m(\u001b[0m\u001b[0mspins\u001b[0m\u001b[0;34m[\u001b[0m\u001b[0mi\u001b[0m\u001b[0;34m]\u001b[0m\u001b[0;34m,\u001b[0m \u001b[0mL\u001b[0m\u001b[0;34m,\u001b[0m \u001b[0mJ\u001b[0m\u001b[0;34m,\u001b[0m \u001b[0mJd\u001b[0m\u001b[0;34m)\u001b[0m \u001b[0;34m/\u001b[0m \u001b[0mL\u001b[0m\u001b[0;34m**\u001b[0m\u001b[0;36m2\u001b[0m\u001b[0;34m\u001b[0m\u001b[0;34m\u001b[0m\u001b[0m\n\u001b[0m\u001b[1;32m     21\u001b[0m     \u001b[0me2\u001b[0m \u001b[0;34m=\u001b[0m \u001b[0me2\u001b[0m \u001b[0;34m/\u001b[0m \u001b[0mnum_conf\u001b[0m\u001b[0;34m\u001b[0m\u001b[0;34m\u001b[0m\u001b[0m\n\u001b[1;32m     22\u001b[0m     \u001b[0me_2\u001b[0m \u001b[0;34m=\u001b[0m \u001b[0;34m(\u001b[0m\u001b[0me_2\u001b[0m \u001b[0;34m/\u001b[0m \u001b[0mnum_conf\u001b[0m\u001b[0;34m)\u001b[0m\u001b[0;34m**\u001b[0m\u001b[0;36m2\u001b[0m\u001b[0;34m\u001b[0m\u001b[0;34m\u001b[0m\u001b[0m\n",
      "\u001b[0;32m/tmp/job-1299520/ipykernel_211472/3344352481.py\u001b[0m in \u001b[0;36mH\u001b[0;34m(lattice, L, J, Jd)\u001b[0m\n\u001b[1;32m      6\u001b[0m     \u001b[0;32mfor\u001b[0m \u001b[0mi\u001b[0m \u001b[0;32min\u001b[0m \u001b[0mrange\u001b[0m\u001b[0;34m(\u001b[0m\u001b[0mL\u001b[0m\u001b[0;34m)\u001b[0m\u001b[0;34m:\u001b[0m\u001b[0;34m\u001b[0m\u001b[0;34m\u001b[0m\u001b[0m\n\u001b[1;32m      7\u001b[0m         \u001b[0;32mfor\u001b[0m \u001b[0mj\u001b[0m \u001b[0;32min\u001b[0m \u001b[0mrange\u001b[0m\u001b[0;34m(\u001b[0m\u001b[0mL\u001b[0m\u001b[0;34m)\u001b[0m\u001b[0;34m:\u001b[0m\u001b[0;34m\u001b[0m\u001b[0;34m\u001b[0m\u001b[0m\n\u001b[0;32m----> 8\u001b[0;31m             \u001b[0men\u001b[0m \u001b[0;34m-=\u001b[0m \u001b[0mlattice\u001b[0m\u001b[0;34m[\u001b[0m\u001b[0mi\u001b[0m\u001b[0;34m,\u001b[0m \u001b[0mj\u001b[0m\u001b[0;34m]\u001b[0m \u001b[0;34m*\u001b[0m \u001b[0mlattice\u001b[0m\u001b[0;34m[\u001b[0m\u001b[0mi\u001b[0m\u001b[0;34m,\u001b[0m \u001b[0;34m(\u001b[0m\u001b[0mj\u001b[0m \u001b[0;34m+\u001b[0m \u001b[0;36m1\u001b[0m\u001b[0;34m)\u001b[0m \u001b[0;34m//\u001b[0m \u001b[0mL\u001b[0m\u001b[0;34m]\u001b[0m \u001b[0;34m*\u001b[0m \u001b[0mJ\u001b[0m \u001b[0;34m+\u001b[0m \u001b[0mlattice\u001b[0m\u001b[0;34m[\u001b[0m\u001b[0mi\u001b[0m\u001b[0;34m,\u001b[0m \u001b[0mj\u001b[0m\u001b[0;34m]\u001b[0m \u001b[0;34m*\u001b[0m \u001b[0mlattice\u001b[0m\u001b[0;34m[\u001b[0m\u001b[0;34m(\u001b[0m\u001b[0mi\u001b[0m \u001b[0;34m+\u001b[0m \u001b[0;36m1\u001b[0m\u001b[0;34m)\u001b[0m \u001b[0;34m//\u001b[0m \u001b[0mL\u001b[0m\u001b[0;34m,\u001b[0m \u001b[0;34m(\u001b[0m\u001b[0mj\u001b[0m \u001b[0;34m+\u001b[0m \u001b[0;36m1\u001b[0m\u001b[0;34m)\u001b[0m \u001b[0;34m//\u001b[0m \u001b[0mL\u001b[0m\u001b[0;34m]\u001b[0m \u001b[0;34m*\u001b[0m \u001b[0mJd\u001b[0m\u001b[0;34m\u001b[0m\u001b[0;34m\u001b[0m\u001b[0m\n\u001b[0m\u001b[1;32m      9\u001b[0m     \u001b[0;32mreturn\u001b[0m \u001b[0men\u001b[0m\u001b[0;34m\u001b[0m\u001b[0;34m\u001b[0m\u001b[0m\n\u001b[1;32m     10\u001b[0m \u001b[0;34m\u001b[0m\u001b[0m\n",
      "\u001b[0;31mKeyboardInterrupt\u001b[0m: "
     ]
    }
   ],
   "source": [
    "capacity = {L : [] for L in Ls}\n",
    "for L in tqdm(Ls):\n",
    "    for j in tqdm(range(num_temps)):\n",
    "        capacity[L].append(cap_per_t(spins_[L][0][f'T_{j}'], L, T[j], J, Jd))"
   ]
  },
  {
   "cell_type": "code",
   "execution_count": null,
   "id": "ab2fe124-477d-4439-9d98-4bdcbdcdeb52",
   "metadata": {},
   "outputs": [],
   "source": [
    "plt.scatter(T, capacity[20], c=colors[0], label='L=20', marker=markers[0], s=16)\n",
    "plt.scatter(T, capacity[30], c=colors[1], label='L=30', marker=markers[1], s=16)\n",
    "plt.scatter(T, capacity[60], c=colors[2], label='L=60', marker=markers[2], s=16)\n",
    "plt.scatter(T, capacity[80], c=colors[3], label='L=80', marker=markers[3], s=16)\n",
    "plt.scatter(T, capacity[120], c=colors[4], label='L=120', marker=markers[4], s=16)\n",
    "plt.legend()\n",
    "plt.xlabel('T')\n",
    "plt.ylabel('$C(T)$')\n",
    "plt.show()"
   ]
  },
  {
   "cell_type": "code",
   "execution_count": null,
   "id": "e08ee336-e38f-45c8-9d63-b2dfdc45f001",
   "metadata": {},
   "outputs": [],
   "source": []
  }
 ],
 "metadata": {
  "kernelspec": {
   "display_name": "Python [.conda-mc_lib_env]",
   "language": "python",
   "name": "conda-env-.conda-mc_lib_env-py"
  },
  "language_info": {
   "codemirror_mode": {
    "name": "ipython",
    "version": 3
   },
   "file_extension": ".py",
   "mimetype": "text/x-python",
   "name": "python",
   "nbconvert_exporter": "python",
   "pygments_lexer": "ipython3",
   "version": "3.7.11"
  }
 },
 "nbformat": 4,
 "nbformat_minor": 5
}
