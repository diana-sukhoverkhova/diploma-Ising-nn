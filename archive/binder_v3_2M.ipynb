{
 "cells": [
  {
   "cell_type": "code",
   "execution_count": 8,
   "metadata": {
    "id": "PMpPNBPOr9-o"
   },
   "outputs": [
    {
     "name": "stdout",
     "output_type": "stream",
     "text": [
      "The cython extension is already loaded. To reload it, use:\n",
      "  %reload_ext cython\n"
     ]
    }
   ],
   "source": [
    "%load_ext cython"
   ]
  },
  {
   "cell_type": "code",
   "execution_count": 9,
   "metadata": {
    "id": "FrboH_Htr9-1"
   },
   "outputs": [],
   "source": [
    "import matplotlib.pyplot as plt\n",
    "import math\n",
    "import numpy as np\n",
    "from tqdm import tqdm \n",
    "import multiprocessing as mp\n",
    "from multiprocessing import Pool\n",
    "import os"
   ]
  },
  {
   "cell_type": "code",
   "execution_count": 10,
   "metadata": {},
   "outputs": [],
   "source": [
    "import mc_lib"
   ]
  },
  {
   "cell_type": "code",
   "execution_count": 11,
   "metadata": {},
   "outputs": [
    {
     "name": "stdout",
     "output_type": "stream",
     "text": [
      "/home/ddsukhoverkhova/.conda/envs/mc_lib_env/lib/python3.7/site-packages/mc_lib\n"
     ]
    }
   ],
   "source": [
    "print(mc_lib.get_include())"
   ]
  },
  {
   "cell_type": "code",
   "execution_count": 12,
   "metadata": {},
   "outputs": [
    {
     "name": "stderr",
     "output_type": "stream",
     "text": [
      "/home/ddsukhoverkhova/.cache/ipython/cython/_cython_magic_7be88af85aa9436ff04a7c3ab0f80e31.c:698:31: fatal error: numpy/arrayobject.h: No such file or directory\n",
      " #include \"numpy/arrayobject.h\"\n",
      "                               ^\n",
      "compilation terminated.\n"
     ]
    }
   ],
   "source": [
    "%%cython -a -I</home/ddsukhoverkhova/.conda/envs/mc_lib_env/lib/python3.7/site-packages/mc_lib>\n",
    "from mc_lib.rndm cimport RndmWrapper\n",
    "cdef RndmWrapper rndm = RndmWrapper((123, 0))\n",
    "print(rndm.uniform())"
   ]
  },
  {
   "cell_type": "code",
   "execution_count": 18,
   "metadata": {
    "colab": {
     "base_uri": "https://localhost:8080/"
    },
    "id": "2sjjBI0qr9-3",
    "outputId": "a2ba0ef7-df0e-44fe-f638-1f55085a023d"
   },
   "outputs": [
    {
     "name": "stderr",
     "output_type": "stream",
     "text": [
      "\n",
      "Error compiling Cython file:\n",
      "------------------------------------------------------------\n",
      "...\n",
      "    \n",
      "cdef void init_spins(signed char[::1] spins): \n",
      "    \n",
      "    for j in range(spins.shape[0]):\n",
      "        #spins[j] = 1 if rndm.uniform() > 0.5 else -1\n",
      "        if (rndm.uniform() > 0.5){\n",
      "                                ^\n",
      "------------------------------------------------------------\n",
      "\n",
      "/home/ddsukhoverkhova/.cache/ipython/cython/_cython_magic_2ea92561410a80a03b08b5d4c82ed0d4.pyx:16:33: Expected ':', found '{'\n"
     ]
    }
   ],
   "source": [
    "%%cython -a --cplus --compile-args=-std=c++11 -I</home/ddsukhoverkhova/.conda/envs/mc_lib_env/lib/python3.7/site-packages/mc_lib>\n",
    "cimport cython\n",
    "import numpy as np\n",
    "cimport numpy as np\n",
    "\n",
    "from libc.math cimport exp, tanh\n",
    "from mc_lib.rndm cimport RndmWrapper\n",
    "from mc_lib.lattices import tabulate_neighbors\n",
    "from mc_lib.observable cimport RealObservable\n",
    "\n",
    "cdef RndmWrapper rndm = RndmWrapper((1234, 0)) # global variable\n",
    "    \n",
    "cdef void init_spins(signed char[::1] spins): \n",
    "    \n",
    "    for j in range(spins.shape[0]):\n",
    "        spins[j] = 1 if rndm.uniform() > 0.5 else -1  \n",
    "        \n",
    "        \n",
    "        \n",
    "@cython.boundscheck(False)\n",
    "@cython.wraparound(False)\n",
    "cdef double energy(signed char[::1] spins, \n",
    "                   long[:, ::1] neighbors,\n",
    "                  const double[:,::1] Js):\n",
    "\n",
    "    cdef:\n",
    "        double ene = 0.0\n",
    "        Py_ssize_t site, site1, num_neighb\n",
    "\n",
    "    for site in range(spins.shape[0]):\n",
    "        num_neighb = neighbors[site, 0]\n",
    "        for j in range(1, num_neighb+1):\n",
    "            site1 = neighbors[site, j]\n",
    "            ene += -1 * Js[site, site1] * spins[site] * spins[site1] \n",
    "    \n",
    "    return ene / 2.0\n",
    "\n",
    "\n",
    "\n",
    "@cython.boundscheck(False)\n",
    "@cython.wraparound(False)\n",
    "cdef void flip_spin(signed char[::1] spins, \n",
    "                    const long[:, ::1] neighbors,\n",
    "                    double beta,\n",
    "                    const double[:,::1] Js): \n",
    "    cdef:\n",
    "        Py_ssize_t site = int(spins.shape[0] * rndm.uniform())\n",
    "        Py_ssize_t site1\n",
    "\n",
    "    cdef int num_neighb = neighbors[site, 0]\n",
    "    cdef double summ = 0.\n",
    "    for j in range(1, num_neighb + 1):\n",
    "        site1 = neighbors[site, j]\n",
    "        summ += spins[site1] * spins[site] * Js[site,site1]\n",
    "   \n",
    "    cdef double ratio = exp(-2.0 * beta * summ )\n",
    "    \n",
    "    if rndm.uniform() > ratio:\n",
    "        return\n",
    "\n",
    "    spins[site] = -spins[site]\n",
    "    \n",
    "    \n",
    "cdef void get_J( double[:,::1] Js, double J, double Jd, int L1, int L2 , int L3 = 1):\n",
    "  \n",
    "    if L3 == 1:\n",
    "        for i in range(L1*L2):\n",
    "            Js[i, ((i // L2 + 1) % L1 * L2 )  + (i + 1) % L2 ] = Jd\n",
    "            Js[i, ((i // L2  - 1) % L1 * L2 )  + (i - 1) % L2 ] = Jd\n",
    "            Js[i, (i // L2) * L2 + (i + 1) % L2] = J \n",
    "            Js[i, (i + L2) % (L1*L2)] = J\n",
    "            Js[i, (i // L2) * L2 + (i - 1) % L2] = J\n",
    "            Js[i, (i - L2) % (L1*L2)] = J\n",
    "        return\n",
    "    \n",
    "    else:\n",
    "        return\n",
    "    \n",
    "def det_energies(double J, double Jd): # возвращает энергии для всех возможных конфигураций системы 4х4\n",
    "    \n",
    "    cdef int L = 4\n",
    "    \n",
    "    cdef long[:, ::1] neighbors = tabulate_neighbors(L, kind='triang')\n",
    "    cdef double[:,::1] Js = np.zeros((L*L, L*L)) \n",
    "    get_J(Js, J, Jd, L, L)\n",
    "    \n",
    "    A = [-1,1]\n",
    "    conf = [(a1,a2,a3,a4,a5,a6,a7,a8,a9,a10,a11,a12,a13,a14,a15,a16) for a1 in A for a2 in A for a3 in A for a4 in A for a5 in A for a6 in A for a7 in A for a8 in A for a9 in A for a10 in A for a11 in A for a12 in A for a13 in A for a14 in A for a15 in A for a16 in A]\n",
    "    cdef signed char[:,::1] configs = np.asarray(conf) # перебор всех конфигураций\n",
    "    \n",
    "    energies = []\n",
    "    magns = []\n",
    "    cdef int i\n",
    "    for i in range(2**16):\n",
    "        energies.append(energy(configs[i], neighbors, Js))\n",
    "        magns.append((np.sum(configs[i]))**2)\n",
    "        \n",
    "    return (np.asarray(energies),np.asarray( magns))\n",
    "        \n",
    "\n",
    "def simulate(Py_ssize_t L,\n",
    "             double T, double J, double Jd,\n",
    "             Py_ssize_t num_sweeps,\n",
    "             Py_ssize_t num_conf):\n",
    "\n",
    "    cdef:\n",
    "        long[:, ::1] neighbors = tabulate_neighbors(L, kind='triang') \n",
    "        double beta = 1./T\n",
    "\n",
    "    cdef:\n",
    "        int num_therm = int(20*L**2.15)\n",
    "        int steps_per_sweep = int(L * L)\n",
    "        int step = 0, sweep = 0\n",
    "        int i\n",
    "        # double av_en = 0., Z = 0., magn = 0., av_magn=0.\n",
    "\n",
    "    cdef signed char[::1] spins =  np.empty( L*L, dtype=np.int8) \n",
    "    init_spins(spins)\n",
    "    \n",
    "    cdef double[:,::1] Js = np.zeros((L*L, L*L)) \n",
    "    get_J(Js, J, Jd, L, L)\n",
    "\n",
    "    cdef signed char[:,::1] res = np.empty((num_conf, L*L), dtype=np.int8)\n",
    "\n",
    "    for sweep in range(num_therm):\n",
    "        for i in range(steps_per_sweep):\n",
    "            step += 1\n",
    "            flip_spin(spins, neighbors, beta, Js)\n",
    "\n",
    "    for conf in range(num_conf):\n",
    "        for sweep in range(num_sweeps):\n",
    "            for i in range(steps_per_sweep):\n",
    "                step += 1\n",
    "                flip_spin(spins, neighbors, beta, Js)\n",
    "                \n",
    "        res[conf, :] = spins\n",
    "    \n",
    "    return (res)"
   ]
  },
  {
   "cell_type": "code",
   "execution_count": 7,
   "metadata": {
    "id": "ggtb7GEZsyK8"
   },
   "outputs": [
    {
     "ename": "FileNotFoundError",
     "evalue": "[Errno 2] No such file or directory: 'binder_4.npy'",
     "output_type": "error",
     "traceback": [
      "\u001b[0;31m---------------------------------------------------------------------------\u001b[0m",
      "\u001b[0;31mFileNotFoundError\u001b[0m                         Traceback (most recent call last)",
      "\u001b[0;32m/tmp/job-473122/ipykernel_427039/2139219778.py\u001b[0m in \u001b[0;36m<module>\u001b[0;34m\u001b[0m\n\u001b[0;32m----> 1\u001b[0;31m \u001b[0;32mwith\u001b[0m \u001b[0mopen\u001b[0m\u001b[0;34m(\u001b[0m\u001b[0;34m'binder_4.npy'\u001b[0m\u001b[0;34m,\u001b[0m \u001b[0;34m'rb'\u001b[0m\u001b[0;34m)\u001b[0m \u001b[0;32mas\u001b[0m \u001b[0mf\u001b[0m\u001b[0;34m:\u001b[0m\u001b[0;34m\u001b[0m\u001b[0;34m\u001b[0m\u001b[0m\n\u001b[0m\u001b[1;32m      2\u001b[0m     \u001b[0mbinder_4\u001b[0m \u001b[0;34m=\u001b[0m \u001b[0mnp\u001b[0m\u001b[0;34m.\u001b[0m\u001b[0mload\u001b[0m\u001b[0;34m(\u001b[0m\u001b[0mf\u001b[0m\u001b[0;34m)\u001b[0m\u001b[0;34m\u001b[0m\u001b[0;34m\u001b[0m\u001b[0m\n\u001b[1;32m      3\u001b[0m \u001b[0;32mwith\u001b[0m \u001b[0mopen\u001b[0m\u001b[0;34m(\u001b[0m\u001b[0;34m'binder_10.npy'\u001b[0m\u001b[0;34m,\u001b[0m \u001b[0;34m'rb'\u001b[0m\u001b[0;34m)\u001b[0m \u001b[0;32mas\u001b[0m \u001b[0mf\u001b[0m\u001b[0;34m:\u001b[0m\u001b[0;34m\u001b[0m\u001b[0;34m\u001b[0m\u001b[0m\n\u001b[1;32m      4\u001b[0m     \u001b[0mbinder_10\u001b[0m \u001b[0;34m=\u001b[0m \u001b[0mnp\u001b[0m\u001b[0;34m.\u001b[0m\u001b[0mload\u001b[0m\u001b[0;34m(\u001b[0m\u001b[0mf\u001b[0m\u001b[0;34m)\u001b[0m\u001b[0;34m\u001b[0m\u001b[0;34m\u001b[0m\u001b[0m\n\u001b[1;32m      5\u001b[0m \u001b[0;32mwith\u001b[0m \u001b[0mopen\u001b[0m\u001b[0;34m(\u001b[0m\u001b[0;34m'binder_20.npy'\u001b[0m\u001b[0;34m,\u001b[0m \u001b[0;34m'rb'\u001b[0m\u001b[0;34m)\u001b[0m \u001b[0;32mas\u001b[0m \u001b[0mf\u001b[0m\u001b[0;34m:\u001b[0m\u001b[0;34m\u001b[0m\u001b[0;34m\u001b[0m\u001b[0m\n",
      "\u001b[0;31mFileNotFoundError\u001b[0m: [Errno 2] No such file or directory: 'binder_4.npy'"
     ]
    }
   ],
   "source": [
    "with open('binder_4.npy', 'rb') as f:\n",
    "    binder_4 = np.load(f)\n",
    "with open('binder_10.npy', 'rb') as f:\n",
    "    binder_10 = np.load(f)\n",
    "with open('binder_20.npy', 'rb') as f:\n",
    "    binder_20 = np.load(f)\n",
    "#with open('/content/drive/MyDrive/ВКР/binder_40.npy', 'rb') as f:\n",
    "#    binder_40 = np.load(f)\n",
    "\n",
    "with open('err_4.npy', 'rb') as f:\n",
    "    err_4 = np.load(f)\n",
    "with open('err_10.npy', 'rb') as f:\n",
    "    err_10 = np.load(f)\n",
    "with open('err_20.npy', 'rb') as f:\n",
    "    err_20 = np.load(f)\n",
    "#with open('/content/drive/MyDrive/ВКР/err_40.npy', 'rb') as f:\n",
    "#    err_40 = np.load(f)"
   ]
  },
  {
   "cell_type": "code",
   "execution_count": 8,
   "metadata": {
    "id": "nk7B5fMtw8uq"
   },
   "outputs": [],
   "source": [
    "num_temps = 25\n",
    "T = np.linspace(0.5, 3, num_temps)\n",
    "L = [10, 20, 40, 80]\n",
    "# 0 - Jd, num_temps - temperatures, len(L) - lattice sizes\n",
    "binder = np.zeros((3, num_temps, len(L)))  \n",
    "err = np.zeros((3, num_temps, len(L)))\n",
    "num_sweeps = 2000000"
   ]
  },
  {
   "cell_type": "code",
   "execution_count": 10,
   "metadata": {},
   "outputs": [
    {
     "name": "stdout",
     "output_type": "stream",
     "text": [
      "Number of processors:  48\n"
     ]
    }
   ],
   "source": [
    "print(\"Number of processors: \", mp.cpu_count())"
   ]
  },
  {
   "cell_type": "code",
   "execution_count": 23,
   "metadata": {},
   "outputs": [
    {
     "name": "stdout",
     "output_type": "stream",
     "text": [
      "10 0.5 1 0 2000000\n"
     ]
    }
   ],
   "source": [
    "data = [L[i],T[j],1,0,num_sweeps]\n",
    "print(data[0], data[1], data[2], data[3], data[4])"
   ]
  },
  {
   "cell_type": "code",
   "execution_count": null,
   "metadata": {},
   "outputs": [],
   "source": [
    "# L = 4\n",
    "#for i in range(len(L)):\n",
    "i = 0\n",
    "for j in tqdm(range(num_temps)):\n",
    "    sml = simulate(L[i],T[j],1,0,num_sweeps)\n",
    "    sml_01 = simulate(L[i],T[j],1,-0.1,num_sweeps)\n",
    "    sml_05 = simulate(L[i],T[j],1,-0.5,num_sweeps)\n",
    "\n",
    "    binder[0, j, i] += sml[0]\n",
    "    binder[1, j, i] += sml_01[0]\n",
    "    binder[2, j, i] += sml_05[0]\n",
    "\n",
    "    err[0, j, i] += sml[1]\n",
    "    err[1, j, i] += sml_01[1]\n",
    "    err[2, j, i] += sml_05[1]"
   ]
  },
  {
   "cell_type": "code",
   "execution_count": 9,
   "metadata": {
    "colab": {
     "base_uri": "https://localhost:8080/"
    },
    "id": "BD45EgaxmzV4",
    "outputId": "f991987b-3a26-40d0-db7b-cecb567f8e29"
   },
   "outputs": [
    {
     "name": "stderr",
     "output_type": "stream",
     "text": [
      "100%|██████████| 50/50 [05:46<00:00,  6.93s/it]\n"
     ]
    }
   ],
   "source": [
    "# L = 4\n",
    "#for i in range(len(L)):\n",
    "i = 0\n",
    "for j in tqdm(range(num_temps)):\n",
    "    sml = simulate(L[i],T[j],1,0,num_sweeps)\n",
    "    sml_01 = simulate(L[i],T[j],1,-0.1,num_sweeps)\n",
    "    sml_05 = simulate(L[i],T[j],1,-0.5,num_sweeps)\n",
    "\n",
    "    binder[0, j, i] += sml[0]\n",
    "    binder[1, j, i] += sml_01[0]\n",
    "    binder[2, j, i] += sml_05[0]\n",
    "\n",
    "    err[0, j, i] += sml[1]\n",
    "    err[1, j, i] += sml_01[1]\n",
    "    err[2, j, i] += sml_05[1]"
   ]
  },
  {
   "cell_type": "code",
   "execution_count": 10,
   "metadata": {
    "colab": {
     "base_uri": "https://localhost:8080/"
    },
    "id": "k4E35-sJm_D6",
    "outputId": "e4f168f4-4a77-4168-c3d9-7f0d55295900"
   },
   "outputs": [
    {
     "name": "stderr",
     "output_type": "stream",
     "text": [
      "100%|██████████| 50/50 [34:03<00:00, 40.88s/it]\n"
     ]
    }
   ],
   "source": [
    "# L = 10\n",
    "#for i in range(len(L)):\n",
    "i = 1\n",
    "for j in tqdm(range(num_temps)):\n",
    "    sml = simulate(L[i],T[j],1,0,num_sweeps)\n",
    "    sml_01 = simulate(L[i],T[j],1,-0.1,num_sweeps)\n",
    "    sml_05 = simulate(L[i],T[j],1,-0.5,num_sweeps)\n",
    "\n",
    "    binder[0, j, i] += sml[0]\n",
    "    binder[1, j, i] += sml_01[0]\n",
    "    binder[2, j, i] += sml_05[0]\n",
    "\n",
    "    err[0, j, i] += sml[1]\n",
    "    err[1, j, i] += sml_01[1]\n",
    "    err[2, j, i] += sml_05[1]"
   ]
  },
  {
   "cell_type": "code",
   "execution_count": 11,
   "metadata": {
    "colab": {
     "base_uri": "https://localhost:8080/"
    },
    "id": "xPETo3zmnJLd",
    "outputId": "768abe37-9a97-4fce-a285-0e41971e5763"
   },
   "outputs": [
    {
     "name": "stderr",
     "output_type": "stream",
     "text": [
      "100%|██████████| 50/50 [2:17:03<00:00, 164.47s/it]  \n"
     ]
    }
   ],
   "source": [
    "# L = 20\n",
    "#for i in range(len(L)):\n",
    "i = 2\n",
    "for j in tqdm(range(num_temps)):\n",
    "    sml = simulate(L[i],T[j],1,0,num_sweeps)\n",
    "    sml_01 = simulate(L[i],T[j],1,-0.1,num_sweeps)\n",
    "    sml_05 = simulate(L[i],T[j],1,-0.5,num_sweeps)\n",
    "\n",
    "    binder[0, j, i] += sml[0]\n",
    "    binder[1, j, i] += sml_01[0]\n",
    "    binder[2, j, i] += sml_05[0]\n",
    "\n",
    "    err[0, j, i] += sml[1]\n",
    "    err[1, j, i] += sml_01[1]\n",
    "    err[2, j, i] += sml_05[1]"
   ]
  },
  {
   "cell_type": "code",
   "execution_count": 12,
   "metadata": {
    "colab": {
     "base_uri": "https://localhost:8080/"
    },
    "id": "2s5LBImyuJ5I",
    "outputId": "992dfdb8-c538-441a-ca9f-f757b76ee93f"
   },
   "outputs": [
    {
     "name": "stderr",
     "output_type": "stream",
     "text": [
      "100%|██████████| 50/50 [9:34:42<00:00, 689.65s/it]  \n"
     ]
    }
   ],
   "source": [
    "# L = 40\n",
    "#for i in range(len(L)):\n",
    "i = 3\n",
    "for j in tqdm(range(num_temps)):\n",
    "    sml = simulate(L[i],T[j],1,0,num_sweeps)\n",
    "    sml_01 = simulate(L[i],T[j],1,-0.1,num_sweeps)\n",
    "    sml_05 = simulate(L[i],T[j],1,-0.5,num_sweeps)\n",
    "\n",
    "    binder[0, j, i] += sml[0]\n",
    "    binder[1, j, i] += sml_01[0]\n",
    "    binder[2, j, i] += sml_05[0]\n",
    "\n",
    "    err[0, j, i] += sml[1]\n",
    "    err[1, j, i] += sml_01[1]\n",
    "    err[2, j, i] += sml_05[1]"
   ]
  },
  {
   "cell_type": "code",
   "execution_count": null,
   "metadata": {},
   "outputs": [],
   "source": [
    "with open('data_binders/binder_4.npy', 'wb') as f:\n",
    "    np.save(f, binder[:, :, 0])\n",
    "with open('data_binders/err_4.npy', 'wb') as f:\n",
    "    np.save(f, err[:, :, 0])"
   ]
  },
  {
   "cell_type": "code",
   "execution_count": null,
   "metadata": {},
   "outputs": [],
   "source": [
    "with open('data_binders/binder_10.npy', 'wb') as f:\n",
    "    np.save(f, binder[:, :, 1])    \n",
    "with open('data_binders/err_10.npy', 'wb') as f:\n",
    "    np.save(f, err[:, :, 1])"
   ]
  },
  {
   "cell_type": "code",
   "execution_count": null,
   "metadata": {},
   "outputs": [],
   "source": [
    "with open('data_binders/binder_20.npy', 'wb') as f:\n",
    "    np.save(f, binder[:, :, 2])\n",
    "with open('data_binders/err_20.npy', 'wb') as f:\n",
    "    np.save(f, err[:, :, 2])"
   ]
  },
  {
   "cell_type": "code",
   "execution_count": null,
   "metadata": {
    "id": "67n2xRONsmxV",
    "tags": []
   },
   "outputs": [],
   "source": [
    "with open('data_binders/binder_40.npy', 'wb') as f:\n",
    "    np.save(f, binder[:, :, 3])    \n",
    "with open('data_binders/err_40.npy', 'wb') as f:\n",
    "    np.save(f, err[:, :, 3])"
   ]
  },
  {
   "cell_type": "code",
   "execution_count": 9,
   "metadata": {
    "colab": {
     "base_uri": "https://localhost:8080/",
     "height": 295
    },
    "id": "cjk6KKlVqCfh",
    "outputId": "a7e2d936-a200-46b4-993c-32da7e24ab9d",
    "tags": []
   },
   "outputs": [
    {
     "data": {
      "image/png": "[encoded data removed]",
      "text/plain": [
       "<Figure size 432x288 with 1 Axes>"
      ]
     },
     "metadata": {
      "needs_background": "light"
     },
     "output_type": "display_data"
    }
   ],
   "source": [
    "#Jd = 0.0\n",
    "plt.errorbar(T, binder_4[0, :], err_4[0, :], label = \"L=4\")#, fmt='o-')\n",
    "plt.errorbar(T, binder_10[0, :], err_10[0, :], label = \"L=10\")#, fmt='o-')\n",
    "plt.errorbar(T, binder_20[0, :], err_20[0, :], label = \"L=20\")#, fmt='o-')\n",
    "#plt.errorbar(T, binder_40[0, :], err_40[0, :], label = \"L=40\", fmt='o-')\n",
    "#plt.plot(T, binders[0, 4, :], label = \"L=80\")\n",
    "plt.xlabel('Temperature')\n",
    "plt.ylabel('Cumulant')\n",
    "plt.axvline(x=2.2691853142129728)\n",
    "plt.title(\"Jd = 0.0\")\n",
    "plt.legend()\n",
    "plt.show();"
   ]
  },
  {
   "cell_type": "code",
   "execution_count": 10,
   "metadata": {
    "colab": {
     "base_uri": "https://localhost:8080/",
     "height": 295
    },
    "id": "k4RNrThiur1m",
    "outputId": "caa4df45-32a6-4de5-9801-5c3237382b30",
    "tags": []
   },
   "outputs": [
    {
     "data": {
      "image/png": "[encoded data removed]",
      "text/plain": [
       "<Figure size 432x288 with 1 Axes>"
      ]
     },
     "metadata": {
      "needs_background": "light"
     },
     "output_type": "display_data"
    }
   ],
   "source": [
    "#Jd = -0.1\n",
    "plt.errorbar(T, binder_4[1, :], err_4[1, :], label = \"L=4\")#, fmt='o-')\n",
    "plt.errorbar(T, binder_10[1, :], err_10[1, :], label = \"L=10\")#, fmt='o-')\n",
    "plt.errorbar(T, binder_20[1, :], err_20[1, :], label = \"L=20\")#, fmt='o-')\n",
    "#plt.errorbar(T, binder_40[1, :], err_40[1, :], label = \"L=40\", fmt='o-')\n",
    "#plt.plot(T, binders[0, 4, :], label = \"L=80\")\n",
    "plt.xlabel('Temperature')\n",
    "plt.ylabel('Cumulant')\n",
    "plt.axvline(x=2.104982167992544)\n",
    "plt.title(\"Jd = -0.1\")\n",
    "plt.legend()\n",
    "plt.show();"
   ]
  },
  {
   "cell_type": "code",
   "execution_count": 11,
   "metadata": {
    "colab": {
     "base_uri": "https://localhost:8080/",
     "height": 295
    },
    "id": "OuD7LhX5uyMw",
    "outputId": "d7ca0b56-1531-4f0c-ccaa-37dee61bc413"
   },
   "outputs": [
    {
     "data": {
      "image/png": "[encoded data removed]",
      "text/plain": [
       "<Figure size 432x288 with 1 Axes>"
      ]
     },
     "metadata": {
      "needs_background": "light"
     },
     "output_type": "display_data"
    }
   ],
   "source": [
    "#Jd = -0.5\n",
    "plt.errorbar(T, binder_4[2, :], err_4[2, :], label = \"L=4\")#, fmt='o-')\n",
    "plt.errorbar(T, binder_10[2, :], err_10[2, :], label = \"L=10\")#, fmt='o-')\n",
    "plt.errorbar(T, binder_20[2, :], err_20[2, :], label = \"L=20\")#, fmt='o-')\n",
    "#plt.errorbar(T, binder_40[2, :], err_40[2, :], label = \"L=40\", fmt='o-')\n",
    "#plt.plot(T, binders[0, 4, :], label = \"L=80\")\n",
    "plt.axvline(x=1.34187327905057)\n",
    "plt.xlabel('Temperature')\n",
    "plt.ylabel('Cumulant')\n",
    "plt.title(\"Jd = -0.5\")\n",
    "plt.legend()\n",
    "plt.show();"
   ]
  },
  {
   "cell_type": "code",
   "execution_count": 12,
   "metadata": {
    "id": "k0wxuEr2fpoR"
   },
   "outputs": [],
   "source": [
    "# near critical"
   ]
  },
  {
   "cell_type": "code",
   "execution_count": 16,
   "metadata": {},
   "outputs": [
    {
     "data": {
      "image/png": "[encoded data removed]",
      "text/plain": [
       "<Figure size 432x288 with 1 Axes>"
      ]
     },
     "metadata": {
      "needs_background": "light"
     },
     "output_type": "display_data"
    }
   ],
   "source": [
    "#Jd = 0.0\n",
    "plt.errorbar(T[30:40], binder_4[0, 30:40], err_4[0, 30:40], label = \"L=4\", fmt='o-')\n",
    "plt.errorbar(T[30:40], binder_10[0, 30:40], err_10[0, 30:40], label = \"L=10\", fmt='o-')\n",
    "plt.errorbar(T[30:40], binder_20[0, 30:40], err_20[0, 30:40], label = \"L=20\", fmt='o-')\n",
    "#plt.errorbar(T, binder_40[0, :], err_40[0, :], label = \"L=40\", fmt='o-')\n",
    "#plt.plot(T, binders[0, 4, :], label = \"L=80\")\n",
    "plt.xlabel('Temperature')\n",
    "plt.ylabel('Cumulant')\n",
    "plt.axvline(x=2.2691853142129728)\n",
    "plt.title(\"Jd = 0.0\")\n",
    "plt.legend()\n",
    "plt.show();"
   ]
  },
  {
   "cell_type": "code",
   "execution_count": 17,
   "metadata": {},
   "outputs": [
    {
     "data": {
      "image/png": "[encoded data removed]",
      "text/plain": [
       "<Figure size 432x288 with 1 Axes>"
      ]
     },
     "metadata": {
      "needs_background": "light"
     },
     "output_type": "display_data"
    }
   ],
   "source": [
    "#Jd = -0.1\n",
    "plt.errorbar(T[30:40], binder_4[1, 30:40], err_4[1, 30:40], label = \"L=4\", fmt='o-')\n",
    "plt.errorbar(T[30:40], binder_10[1, 30:40], err_10[1, 30:40], label = \"L=10\", fmt='o-')\n",
    "plt.errorbar(T[30:40], binder_20[1, 30:40], err_20[1, 30:40], label = \"L=20\", fmt='o-')\n",
    "#plt.errorbar(T, binder_40[1, :], err_40[1, :], label = \"L=40\", fmt='o-')\n",
    "#plt.plot(T, binders[0, 4, :], label = \"L=80\")\n",
    "plt.xlabel('Temperature')\n",
    "plt.ylabel('Cumulant')\n",
    "plt.axvline(x=2.104982167992544)\n",
    "plt.title(\"Jd = -0.1\")\n",
    "plt.legend()\n",
    "plt.show();"
   ]
  },
  {
   "cell_type": "code",
   "execution_count": 20,
   "metadata": {},
   "outputs": [
    {
     "data": {
      "image/png": "[encoded data removed]",
      "text/plain": [
       "<Figure size 432x288 with 1 Axes>"
      ]
     },
     "metadata": {
      "needs_background": "light"
     },
     "output_type": "display_data"
    }
   ],
   "source": [
    "#Jd = -0.5\n",
    "plt.errorbar(T[10:30], binder_4[2, 10:30], err_4[2, 10:30], label = \"L=4\", fmt='o-')\n",
    "plt.errorbar(T[10:30], binder_10[2, 10:30], err_10[2, 10:30], label = \"L=10\", fmt='o-')\n",
    "plt.errorbar(T[10:30], binder_20[2, 10:30], err_20[2, 10:30], label = \"L=20\", fmt='o-')\n",
    "#plt.errorbar(T, binder_40[2, :], err_40[2, :], label = \"L=40\", fmt='o-')\n",
    "#plt.plot(T, binders[0, 4, :], label = \"L=80\")\n",
    "plt.axvline(x=1.34187327905057)\n",
    "plt.xlabel('Temperature')\n",
    "plt.ylabel('Cumulant')\n",
    "plt.title(\"Jd = -0.5\")\n",
    "plt.legend()\n",
    "plt.show();"
   ]
  },
  {
   "cell_type": "code",
   "execution_count": 3,
   "metadata": {},
   "outputs": [
    {
     "name": "stdout",
     "output_type": "stream",
     "text": [
      "[0.  0.1 0.2 0.3 0.4 0.5 0.6 0.7 0.8 0.9 1. ]\n"
     ]
    },
    {
     "data": {
      "text/plain": [
       "[2.2691853142129728,\n",
       " 2.426291319035178,\n",
       " 2.577356059664392,\n",
       " 2.7232065461969945,\n",
       " 2.8645022087095424,\n",
       " 3.0017774197047054,\n",
       " 3.1354715107049764,\n",
       " 3.2659503538230608,\n",
       " 3.393522159945615,\n",
       " 3.5184492410503965,\n",
       " 3.64095690650721]"
      ]
     },
     "execution_count": 3,
     "metadata": {},
     "output_type": "execute_result"
    }
   ],
   "source": [
    "import numpy as np\n",
    "from scipy import optimize\n",
    "\n",
    "def F(t, Jd):\n",
    "    return (np.sinh(2/t))**2 + 2 * np.sinh(2/t) * np.sinh(Jd *2/t) - 1\n",
    "\n",
    "Jd_ar = np.linspace(0, 1., 11, endpoint=True)\n",
    "print(Jd_ar)\n",
    "sol=[optimize.root(F,1,Jd).x[0] for Jd in Jd_ar]\n",
    "sol"
   ]
  },
  {
   "cell_type": "code",
   "execution_count": 4,
   "metadata": {},
   "outputs": [
    {
     "data": {
      "text/plain": [
       "    fjac: array([[-1.]])\n",
       "     fun: array([0.])\n",
       " message: 'The solution converged.'\n",
       "    nfev: 15\n",
       "     qtf: array([-8.44562198e-11])\n",
       "       r: array([0.64883995])\n",
       "  status: 1\n",
       " success: True\n",
       "       x: array([3.39352216])"
      ]
     },
     "execution_count": 4,
     "metadata": {},
     "output_type": "execute_result"
    }
   ],
   "source": [
    "def F(t):\n",
    "    Jd = 0.8\n",
    "    return (np.sinh(2/t))**2 + 2 * np.sinh(2/t) * np.sinh(Jd *2/t) - 1\n",
    "sol=optimize.root(F,1)\n",
    "sol"
   ]
  },
  {
   "cell_type": "code",
   "execution_count": null,
   "metadata": {},
   "outputs": [],
   "source": []
  }
 ],
 "metadata": {
  "colab": {
   "collapsed_sections": [],
   "name": "binder_v3_2M.ipynb",
   "provenance": []
  },
  "kernelspec": {
   "display_name": "mc_lib_env",
   "language": "python",
   "name": "python3"
  },
  "language_info": {
   "codemirror_mode": {
    "name": "ipython",
    "version": 3
   },
   "file_extension": ".py",
   "mimetype": "text/x-python",
   "name": "python",
   "nbconvert_exporter": "python",
   "pygments_lexer": "ipython3",
   "version": "3.7.11"
  }
 },
 "nbformat": 4,
 "nbformat_minor": 4
}
