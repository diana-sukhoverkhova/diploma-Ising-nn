{
 "cells": [
  {
   "cell_type": "code",
   "execution_count": 1,
   "id": "c547ed5a-d100-4972-9500-225cd90dc90e",
   "metadata": {},
   "outputs": [
    {
     "name": "stderr",
     "output_type": "stream",
     "text": [
      "/home/ddsukhoverkhova/.conda/envs/mc_lib_env/lib/python3.7/site-packages/tqdm/auto.py:22: TqdmWarning: IProgress not found. Please update jupyter and ipywidgets. See https://ipywidgets.readthedocs.io/en/stable/user_install.html\n",
      "  from .autonotebook import tqdm as notebook_tqdm\n"
     ]
    }
   ],
   "source": [
    "import torch\n",
    "import torch.nn as nn\n",
    "import matplotlib.pyplot as plt\n",
    "import numpy as np\n",
    "from tqdm import tqdm\n",
    "from sklearn.model_selection import train_test_split\n",
    "from torch.utils.data import DataLoader, TensorDataset, random_split\n",
    "import torchvision.datasets as datasets\n",
    "import os\n",
    "%matplotlib inline"
   ]
  },
  {
   "cell_type": "code",
   "execution_count": 2,
   "id": "f64fbf17-6a9b-4dde-8c39-358a7d72824f",
   "metadata": {},
   "outputs": [],
   "source": [
    "def load_data(Jd, l, num_conf, T, num_temps, batch_size, shuffle_opt, opt='train'):\n",
    "    gen = torch.Generator()\n",
    "    gen.manual_seed(1234)\n",
    "    datasets = []\n",
    "    temps = []\n",
    "    for j in range(num_temps):\n",
    "        path = f'data_spins/{Jd}_{opt}/spins_{l}_{T[j]}.npy'\n",
    "        with open(path, 'rb') as f:\n",
    "            x = np.load(f)   \n",
    "        tensor_x = torch.Tensor(x).unsqueeze(1)\n",
    "        path = f'data_spins/{Jd}_{opt}/answ_{l}_{T[j]}.npy'\n",
    "        with open(path, 'rb') as f:\n",
    "            y = np.load(f)\n",
    "        tensor_y = torch.from_numpy(y).type(torch.float32)\n",
    "\n",
    "        datasets.append(TensorDataset(tensor_x, tensor_y))\n",
    "        \n",
    "        temps.append(T[j])\n",
    "        \n",
    "    temps = torch.FloatTensor(temps)\n",
    "    \n",
    "    if shuffle_opt == True:\n",
    "        idx = torch.randperm(temps.shape[0], generator=gen)\n",
    "        temps = temps[idx].view(temps.size())\n",
    "        dataset = torch.utils.data.ConcatDataset(datasets)\n",
    "        return DataLoader(dataset, batch_size=batch_size, shuffle=shuffle_opt, generator=gen), temps\n",
    "    \n",
    "    else:\n",
    "        dataset = torch.utils.data.ConcatDataset(datasets)\n",
    "        return DataLoader(dataset, batch_size=batch_size, shuffle=shuffle_opt)"
   ]
  },
  {
   "cell_type": "code",
   "execution_count": 3,
   "id": "ae03fb99-6cef-48ea-88ac-6379802ecda7",
   "metadata": {},
   "outputs": [],
   "source": [
    "class Net(nn.Module):\n",
    "    def __init__(self, l):\n",
    "        super().__init__()\n",
    "        self.conv1 = nn.Conv2d(1, 64, 2)\n",
    "        self.pool = nn.MaxPool2d(2, 2)\n",
    "        self.act_hid = nn.ReLU()\n",
    "        self.fc1 = nn.Linear(64*int(l/2-1)*int(l/2-1), 64)\n",
    "        self.fc2 = nn.Linear(64, 1)\n",
    "\n",
    "    def forward(self, x):\n",
    "        x = self.conv1(x)\n",
    "        x = self.pool(x)\n",
    "        x = self.act_hid(x)\n",
    "        x = x.view(-1, 64*int(l/2-1)*int(l/2-1))\n",
    "        x = self.fc1(x)\n",
    "        x = self.act_hid(x)\n",
    "        x = self.fc2(x)\n",
    "        return x"
   ]
  },
  {
   "cell_type": "code",
   "execution_count": 44,
   "id": "f105afa5-faec-4e13-b9e2-47619375ab03",
   "metadata": {},
   "outputs": [],
   "source": [
    "def train(l, train_dataloader, num_epoch, criterion, batch_size):\n",
    "    model = Net(l)\n",
    "    optimizer = torch.optim.Adam(model.parameters(), lr=1.0e-4)\n",
    "    act = nn.Sigmoid()\n",
    "    \n",
    "    errs = []\n",
    "    outs = []\n",
    "\n",
    "    for epoch in range(num_epoch):  \n",
    "        running_loss = 0.0\n",
    "        accuracy = 0.0\n",
    "        pbar = tqdm(enumerate(train_dataloader), total=len(train_dataloader))\n",
    "        for i, data in pbar:\n",
    "            inputs, labels = data\n",
    "            #inputs = inputs.to(device)\n",
    "            #labels = labels.to(device)  \n",
    "            \n",
    "            #model.to(device)\n",
    "            \n",
    "            optimizer.zero_grad()\n",
    "            outputs = model(inputs)\n",
    "            #outputs = act(outputs)\n",
    "\n",
    "            outputs = outputs.squeeze(1) # к одной размерности с labels\n",
    "\n",
    "            loss = criterion(outputs, labels)\n",
    "            loss.backward()\n",
    "            optimizer.step()\n",
    "\n",
    "            running_loss += loss.item()\n",
    "\n",
    "            accuracy += (batch_size - sum(abs(labels - act(outputs)))).float().mean()\n",
    "\n",
    "            pbar.set_description(\n",
    "                    f\"Loss: {running_loss/((i+1)*batch_size)} \"\n",
    "                    f\"Accuracy: {accuracy * 100  / ((i+1)*batch_size)}\"\n",
    "            )\n",
    "            errs.append(loss.item())\n",
    "            #outs.append(act(outputs).item())\n",
    "            \n",
    "    print('Training completed')\n",
    "    return model, errs"
   ]
  },
  {
   "cell_type": "code",
   "execution_count": 16,
   "id": "bf748725-ccb0-44b7-b4c9-d13b8ea4177a",
   "metadata": {},
   "outputs": [],
   "source": [
    "def testing(model, test_dataloader, criterion, batch_size):\n",
    "    outp = []\n",
    "    errors = []\n",
    "    accuracy = 0.0\n",
    "    act = nn.Sigmoid()\n",
    "    with torch.no_grad():\n",
    "        for i, data in enumerate(test_dataloader):\n",
    "            inputs, labels = data\n",
    "            #inputs = inputs.to(device)\n",
    "            #labels = labels.to(device)  \n",
    "            model.to(device)\n",
    "            outputs = model(inputs)\n",
    "            #outputs = act(outputs)\n",
    "            outputs = outputs.squeeze(1)\n",
    "            outp.append(act(outputs).item())\n",
    "            loss = criterion(outputs, labels)\n",
    "            errors.append(loss.item())\n",
    "\n",
    "            accuracy += (1 - sum(abs(labels - act(outputs)))).float().mean()\n",
    "\n",
    "    print(\"Accuracy = {}\".format(accuracy / len(test_dataloader)))\n",
    "    return outp, errors"
   ]
  },
  {
   "cell_type": "code",
   "execution_count": 17,
   "id": "0af144cb-636c-44a9-8d7a-a224e0e32e16",
   "metadata": {},
   "outputs": [],
   "source": [
    "roots = [2.2691853142129728, 2.104982167992544, 1.932307699120554, 1.749339162933206, 1.5536238493280832, 1.34187327905057, 1.109960313758399, 0.8541630993606272, 0.5762735442012712, 0.2885386111960936, 0.03198372863548067]\n",
    "jds = [0.0, -0.1, -0.2, -0.3, -0.4, -0.5, -0.6, -0.7, -0.8, -0.9, -1.0]\n",
    "get_crit_T = dict(zip(jds, roots))"
   ]
  },
  {
   "cell_type": "code",
   "execution_count": 32,
   "id": "92cb623d-8891-4c39-88bc-2864d88639c8",
   "metadata": {},
   "outputs": [],
   "source": [
    "### training ###\n",
    "\n",
    "def train_and_save(Jd, l, num_temps):\n",
    "    num_conf_tr = 2048\n",
    "    num_conf_ts = 512\n",
    "    num_epoch = 1\n",
    "\n",
    "    T_c = get_crit_T[Jd]\n",
    "    T = np.round(np.linspace(T_c - 0.3, T_c + 0.3, num_temps), 4)\n",
    "\n",
    "    criterion = nn.BCEWithLogitsLoss()     \n",
    "\n",
    "    train_dataloader, temps = load_data(Jd, l, num_conf_tr, T, num_temps, batch_size=4, shuffle_opt=True, opt='train')\n",
    "    print(f'Start training for L = {l}')\n",
    "    model, errs = train(l, train_dataloader, num_epoch, criterion, batch_size=4)\n",
    "\n",
    "    #PATH = f'models/{l}_{Jd}_{T[0]}_{T[-1]}_{num_temps}.pt'\n",
    "    #torch.save(model.state_dict(), PATH)\n",
    "    return temps, errs"
   ]
  },
  {
   "cell_type": "code",
   "execution_count": 45,
   "id": "5ba384dc-79db-4497-9257-5c6434443db4",
   "metadata": {},
   "outputs": [
    {
     "name": "stdout",
     "output_type": "stream",
     "text": [
      "Start training for L = 10\n"
     ]
    },
    {
     "name": "stderr",
     "output_type": "stream",
     "text": [
      "Loss: 0.13235502219387854 Accuracy: 64.85651397705078: 100%|██████████| 51200/51200 [02:35<00:00, 328.79it/s] \n"
     ]
    },
    {
     "name": "stdout",
     "output_type": "stream",
     "text": [
      "Training completed\n",
      "Start training for L = 20\n"
     ]
    },
    {
     "name": "stderr",
     "output_type": "stream",
     "text": [
      "Loss: 0.0744204319188441 Accuracy: 81.90164184570312: 100%|██████████| 51200/51200 [05:46<00:00, 147.67it/s] \n"
     ]
    },
    {
     "name": "stdout",
     "output_type": "stream",
     "text": [
      "Training completed\n",
      "Start training for L = 30\n"
     ]
    },
    {
     "name": "stderr",
     "output_type": "stream",
     "text": [
      "Loss: 0.04855490498159042 Accuracy: 88.55278015136719: 100%|██████████| 51200/51200 [12:53<00:00, 66.22it/s] \n"
     ]
    },
    {
     "name": "stdout",
     "output_type": "stream",
     "text": [
      "Training completed\n",
      "Start training for L = 60\n"
     ]
    },
    {
     "name": "stderr",
     "output_type": "stream",
     "text": [
      "Loss: 0.025648216043166885 Accuracy: 94.24524688720703: 100%|██████████| 51200/51200 [52:06<00:00, 16.38it/s]  \n"
     ]
    },
    {
     "name": "stdout",
     "output_type": "stream",
     "text": [
      "Training completed\n"
     ]
    }
   ],
   "source": [
    "L = [10, 20, 30, 60]\n",
    "Jd = 0.0\n",
    "num_temps = 100\n",
    "for l in L:\n",
    "    temps, errors = train_and_save(Jd, l, num_temps)\n",
    "    np.save(f'data_errors_train/{Jd}_{l}_{num_temps}.npy', errors)\n",
    "    np.save(f'data_errors_train/{Jd}_{l}_{num_temps}_temps.npy', temps)"
   ]
  },
  {
   "cell_type": "code",
   "execution_count": 49,
   "id": "9de2ab48-387f-442d-9f92-28aabc9cecd2",
   "metadata": {},
   "outputs": [],
   "source": [
    "def errs(errs):\n",
    "    return np.array([sum(errs[i*2048:(i+1)*2048])/2048 for i in range(num_temps)])\n",
    "\n",
    "def stds_err(errs):\n",
    "    return np.array([np.std(errs[i*2048:(i+1)*2048]) for i in range(num_temps)])"
   ]
  },
  {
   "cell_type": "code",
   "execution_count": 50,
   "id": "ab8fcb56-7378-4bae-87dd-0715dbc1fff8",
   "metadata": {},
   "outputs": [],
   "source": [
    "Jd = 0.0\n",
    "\n",
    "num_temps = 100\n",
    "T_c = get_crit_T[Jd]\n",
    "T = np.linspace(0.03, 3.5, num_temps)\n",
    "\n",
    "L = 10\n",
    "with open(f'data_errors_train/{Jd}_{L}_{num_temps}.npy', 'rb') as f:\n",
    "    errs_10 = np.load(f) \n",
    "with open(f'data_errors_train/{Jd}_{L}_{num_temps}_temps.npy', 'rb') as f:\n",
    "    temps_10 = np.load(f)\n",
    "\n",
    "L = 20\n",
    "with open(f'data_errors_train/{Jd}_{L}_{num_temps}.npy', 'rb') as f:\n",
    "    errs_20 = np.load(f) \n",
    "with open(f'data_errors_train/{Jd}_{L}_{num_temps}_temps.npy', 'rb') as f:\n",
    "    temps_20 = np.load(f)\n",
    "    \n",
    "L = 30\n",
    "with open(f'data_errors_train/{Jd}_{L}_{num_temps}.npy', 'rb') as f:\n",
    "    errs_30 = np.load(f) \n",
    "with open(f'data_errors_train/{Jd}_{L}_{num_temps}_temps.npy', 'rb') as f:\n",
    "    temps_30 = np.load(f)\n",
    "    \n",
    "L = 60\n",
    "with open(f'data_errors_train/{Jd}_{L}_{num_temps}.npy', 'rb') as f:\n",
    "    errs_60 = np.load(f) \n",
    "with open(f'data_errors_train/{Jd}_{L}_{num_temps}_temps.npy', 'rb') as f:\n",
    "    temps_60 = np.load(f)"
   ]
  },
  {
   "cell_type": "code",
   "execution_count": 51,
   "id": "c9b3f664-0e0d-4c77-95ca-a464f661cfd2",
   "metadata": {},
   "outputs": [],
   "source": [
    "T_10, errs_10 = zip(*sorted(zip(temps_10, errs(errs_10))))\n",
    "T_20, errs_20 = zip(*sorted(zip(temps_20, errs(errs_20))))\n",
    "T_30, errs_30 = zip(*sorted(zip(temps_30, errs(errs_30))))\n",
    "T_60, errs_60 = zip(*sorted(zip(temps_60, errs(errs_60))))"
   ]
  },
  {
   "cell_type": "code",
   "execution_count": 52,
   "id": "56f352ac-f936-45c7-9311-5e590ef84240",
   "metadata": {},
   "outputs": [
    {
     "data": {
      "image/png": "[encoded data removed]",
      "text/plain": [
       "<Figure size 432x288 with 1 Axes>"
      ]
     },
     "metadata": {
      "needs_background": "light"
     },
     "output_type": "display_data"
    }
   ],
   "source": [
    "plt.errorbar(T_10, errs_10, yerr=stds_err(errs_10)/1000, marker='.', label='L=10')\n",
    "plt.errorbar(T_20, errs_20, yerr=stds_err(errs_20)/1000, marker='.', label='L=20')\n",
    "plt.errorbar(T_30, errs_30, yerr=stds_err(errs_30)/1000, marker='.', label='L=30')\n",
    "plt.errorbar(T_60, errs_60, yerr=stds_err(errs_60)/1000, marker='.', label='L=60')\n",
    "\n",
    "plt.title('Jd = 0.0')\n",
    "plt.xlabel('T')\n",
    "plt.ylabel('Average BCE loss on training data')\n",
    "\n",
    "plt.axvline(x=T_c, color='black')\n",
    "plt.legend()\n",
    "#plt.xlim(T_c-0.1, T_c+0.1)\n",
    "plt.show()"
   ]
  },
  {
   "cell_type": "code",
   "execution_count": null,
   "id": "2b99acc7-3cd9-4f01-929a-1683017fb4c1",
   "metadata": {},
   "outputs": [],
   "source": []
  }
 ],
 "metadata": {
  "kernelspec": {
   "display_name": "Python [conda env:.conda-mc_lib_env]",
   "language": "python",
   "name": "conda-env-.conda-mc_lib_env-py"
  },
  "language_info": {
   "codemirror_mode": {
    "name": "ipython",
    "version": 3
   },
   "file_extension": ".py",
   "mimetype": "text/x-python",
   "name": "python",
   "nbconvert_exporter": "python",
   "pygments_lexer": "ipython3",
   "version": "3.7.11"
  }
 },
 "nbformat": 4,
 "nbformat_minor": 5
}
