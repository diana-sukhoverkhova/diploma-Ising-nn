{
 "cells": [
  {
   "cell_type": "code",
   "execution_count": 4,
   "id": "4a23649b-1bca-4214-a3f8-d1357730bc3c",
   "metadata": {},
   "outputs": [
    {
     "data": {
      "text/plain": [
       "<contextlib._GeneratorContextManager at 0x2af4b36277d0>"
      ]
     },
     "execution_count": 4,
     "metadata": {},
     "output_type": "execute_result"
    }
   ],
   "source": [
    "import matplotlib.pyplot as plt\n",
    "import numpy as np\n",
    "import pickle\n",
    "from tqdm import tqdm\n",
    "%matplotlib inline\n",
    "\n",
    "from scipy.optimize import curve_fit\n",
    "\n",
    "import warnings\n",
    "warnings.filterwarnings(\"ignore\")\n",
    "\n",
    "plt.rcParams['axes.grid'] = False\n",
    "plt.style.context('Solarize_Light2')"
   ]
  },
  {
   "cell_type": "code",
   "execution_count": 35,
   "id": "0bd3340c-b84b-4e64-914d-1fa4ab529ded",
   "metadata": {},
   "outputs": [],
   "source": [
    "def errs(errs):\n",
    "    return np.array([sum(errs[i*512:(i+1)*512])/512 for i in range(num_temps)])\n",
    "\n",
    "def stds_outs(outs):\n",
    "    return np.power(np.array([np.std(outs[i*512:(i+1)*512]) for i in range(num_temps)]), 2)\n",
    "\n",
    "num_temps = 100\n",
    "markers=['.', '^', 'X', 's', '*', 'p']\n",
    "colors=['blue', 'orange', 'green', 'red', 'm', 'gold']"
   ]
  },
  {
   "cell_type": "markdown",
   "id": "61cbb244-be05-4c7a-8b8b-8a6e45db1d9f",
   "metadata": {},
   "source": [
    "## Ising on square lattice\n",
    "\n",
    "$\\mathcal{H}=-\\sum\\limits_{x,y=1}^{L}\\left[J_1\\sigma_{x,y}\\cdot\\sigma_{x+1,y}+J_2\\sigma_{x,y}\\cdot\\sigma_{x,y+1}\\right]$\n",
    " \\\n",
    " \\\n",
    "$M = \\dfrac{J_2}{J_1}$, $J_1 = 1.0$, $J_2 \\in [0.0625, 0.125, 0.25, 0.5, 0.75, 1.0]$ \\\n",
    "\\\n",
    "Exact solution: \\\n",
    "\\\n",
    "$\\sinh{\\dfrac{2J_1}{kT_c}}\\cdot\\sinh{\\dfrac{2J_2}{kT_c}}=1$"
   ]
  },
  {
   "cell_type": "code",
   "execution_count": 89,
   "id": "83e64fe7-ee43-4d2d-853e-5304a05b980f",
   "metadata": {},
   "outputs": [],
   "source": [
    "roots = [0.3018336135076354, 0.7883671029813581, 0.9723445185469877, 1.2390777517571931, 1.6410179299284857, 1.9728374883141215, 2.2691853142129728, 2.8007227202811613]\n",
    "ms = [0.0004, 0.0625, 0.125, 0.25, 0.5, 0.75, 1.0, 1.5]\n",
    "get_crit_T = dict(zip(ms, roots))\n",
    "Ls = [20, 30, 60, 80, 100]\n",
    "num_epochs = 3"
   ]
  },
  {
   "cell_type": "markdown",
   "id": "ee7d73a3-5e0b-4996-b6ac-81dcd1cb9baa",
   "metadata": {},
   "source": [
    "### Discrete |$T^*$-$T_c$|/$T_c$\n",
    "\n",
    "$T^* = (T_{max} + T_{min}) / 2$"
   ]
  },
  {
   "cell_type": "code",
   "execution_count": 90,
   "id": "4eaefc87-abd9-4cd8-b43b-f7ab3919fde0",
   "metadata": {},
   "outputs": [
    {
     "name": "stderr",
     "output_type": "stream",
     "text": [
      "100%|██████████| 6/6 [00:18<00:00,  3.15s/it]\n"
     ]
    }
   ],
   "source": [
    "ts_diff = {}\n",
    "ts_diff['min'] = []\n",
    "ts_diff['max'] = []\n",
    "ts_diff['mean'] = []\n",
    "ts_diff['T_c'] = []\n",
    "ts_diff['diff'] = []\n",
    "ts_diff['ts'] = {M: [] for M in [0.0625, 0.125, 0.25, 0.5, 0.75, 1.0]}\n",
    "\n",
    "for M in tqdm([0.0625, 0.125, 0.25, 0.5, 0.75, 1.0]):\n",
    "    T_c = get_crit_T[M]\n",
    "    T = np.linspace(T_c - 0.3, T_c + 0.3, num_temps)\n",
    "    outs_ = []\n",
    "    \n",
    "    for i, L in enumerate(Ls):\n",
    "        with open(f'data_outputs/square/{M}_{L}_{num_temps}_{num_epochs}_epochs.npy', 'rb') as f:\n",
    "            outs_.append(np.squeeze(np.load(f)))\n",
    "\n",
    "    ts = []\n",
    "    for i, L in enumerate(Ls):\n",
    "        # diff = [np.abs(errs(outs_[i][:, 0])[j] - errs(outs_[i][:, 1]))[j] for j in range(num_temps)]\n",
    "        diff = [np.abs(errs(outs_[i][:, 0])[j] - 0.5) for j in range(num_temps)]\n",
    "        ts.append(T[np.argmin(diff)])\n",
    "    ts = np.array(ts)\n",
    "\n",
    "    # print('min', np.min(ts))\n",
    "    # print('max', np.max(ts))\n",
    "    # print('mean', (np.max(ts) + np.min(ts))/ 2)\n",
    "    # print('T_c', T_c)\n",
    "    # print('diff', (np.max(ts) + np.min(ts))/ 2 - T_c)\n",
    "\n",
    "    ts_diff['min'].append(np.min(ts))\n",
    "    ts_diff['max'].append(np.max(ts))\n",
    "    ts_diff['mean'].append((np.max(ts) + np.min(ts))/ 2)\n",
    "    ts_diff['T_c'].append(T_c)\n",
    "    ts_diff['diff'].append(np.abs((np.max(ts) + np.min(ts))/ 2 - T_c))\n",
    "    ts_diff['ts'][M] = ts"
   ]
  },
  {
   "cell_type": "code",
   "execution_count": 91,
   "id": "d73dc6f9-9d90-42d9-b987-b3c6e4315453",
   "metadata": {},
   "outputs": [
    {
     "data": {
      "image/png": "[encoded data removed]",
      "text/plain": [
       "<Figure size 432x288 with 1 Axes>"
      ]
     },
     "metadata": {
      "needs_background": "light"
     },
     "output_type": "display_data"
    }
   ],
   "source": [
    "ts_diff_rel = [ts_diff['diff'][i] / ts_diff['T_c'][i] for i in range(len(ts_diff['diff']))]\n",
    "\n",
    "yerrs = np.array([(np.array(ts_diff['max'][i]) - np.array(ts_diff['mean'][i]))/2/ts_diff['T_c'][i] for i in range(len(ts_diff['diff']))])\n",
    "plt.errorbar(ms[1:-1], ts_diff_rel, yerr=yerrs, marker='o', color='black')\n",
    "plt.xlabel('$J_v/J_h$', fontsize=15)\n",
    "plt.ylabel('$|T^* - T_c|/T_c$', fontsize=15)\n",
    "# plt.show()\n",
    "plt.savefig('images/ts_estimate_Jv.png', bbox_inches='tight')"
   ]
  },
  {
   "cell_type": "markdown",
   "id": "1891f8f0-e03b-43b0-b7f1-6399732e45df",
   "metadata": {},
   "source": [
    "### Estimation of T_c ($T^{\\wedge}$) from $\\mu$"
   ]
  },
  {
   "cell_type": "code",
   "execution_count": 92,
   "id": "5364e11c-a5b8-4ae0-b3bd-a51a0d1dabcd",
   "metadata": {},
   "outputs": [
    {
     "data": {
      "image/png": "[encoded data removed]",
      "text/plain": [
       "<Figure size 432x288 with 1 Axes>"
      ]
     },
     "metadata": {
      "needs_background": "light"
     },
     "output_type": "display_data"
    }
   ],
   "source": [
    "### t_star <--- \\mu from L = 100 (J_v/J_h)\n",
    "\n",
    "t_star = [0.8135, 0.9891, 1.2507, 1.6463, 1.9774, 2.2754]\n",
    "t_star_diff = [(t_star[i] - ts_diff['T_c'][i]) / ts_diff['T_c'][i] for i in range(len(ts_diff['diff']))]\n",
    "yerrs = [5e-4, 4e-4, 3e-4, 4e-4, 5e-4, 8e-4]\n",
    "\n",
    "#yerrs = np.array([(np.array(ts_diff['max'][i]) - np.array(ts_diff['mean'][i]))/2/ts_diff['T_c'][i] for i in range(len(ts_diff['diff']))])\n",
    "plt.errorbar(ms[1:-1], t_star_diff, yerr=yerrs, marker='o', color='black')\n",
    "plt.xlabel('$J_v/J_h$', fontsize=20)\n",
    "plt.ylabel('$|T^{\\oplus} - T_c|/T_c$', fontsize=20)\n",
    "# plt.xlim([0, 1.1])\n",
    "# plt.ylim([0, 0.05])\n",
    "\n",
    "# plt.show()\n",
    "plt.savefig('images/ts_estimate_Jv_mu.png', bbox_inches='tight')"
   ]
  },
  {
   "cell_type": "code",
   "execution_count": 40,
   "id": "9b5903fc-0fb5-41c4-b89b-c3c8890f87fd",
   "metadata": {
    "collapsed": true,
    "jupyter": {
     "outputs_hidden": true
    },
    "tags": []
   },
   "outputs": [
    {
     "name": "stderr",
     "output_type": "stream",
     "text": [
      "  0%|          | 0/6 [00:00<?, ?it/s]"
     ]
    },
    {
     "name": "stdout",
     "output_type": "stream",
     "text": [
      "0.8095792241934794 0.8156398302540855\n",
      "\n",
      "\n",
      "0.8156398302540855 0.8156398302540855\n",
      "\n",
      "\n",
      "0.8277610423752977 0.8277610423752977\n",
      "\n",
      "\n",
      "0.8217004363146916 0.8217004363146916\n",
      "\n",
      "\n"
     ]
    },
    {
     "name": "stderr",
     "output_type": "stream",
     "text": [
      " 17%|█▋        | 1/6 [00:09<00:47,  9.45s/it]"
     ]
    },
    {
     "name": "stdout",
     "output_type": "stream",
     "text": [
      "0.8156398302540855 0.8156398302540855\n",
      "\n",
      "\n",
      "0.999617245819715 0.9935566397591089\n",
      "\n",
      "\n",
      "0.9935566397591089 0.9935566397591089\n",
      "\n",
      "\n",
      "0.9935566397591089 0.9935566397591089\n",
      "\n",
      "\n",
      "0.9935566397591089 0.9935566397591089\n",
      "\n",
      "\n"
     ]
    },
    {
     "name": "stderr",
     "output_type": "stream",
     "text": [
      " 33%|███▎      | 2/6 [00:18<00:37,  9.40s/it]"
     ]
    },
    {
     "name": "stdout",
     "output_type": "stream",
     "text": [
      "0.9874960336985028 0.9874960336985028\n",
      "\n",
      "\n",
      "1.2602898729693144 1.2602898729693144\n",
      "\n",
      "\n",
      "1.2481686608481022 1.2481686608481022\n",
      "\n",
      "\n",
      "1.2481686608481022 1.2481686608481022\n",
      "\n",
      "\n",
      "1.2542292669087083 1.2542292669087083\n",
      "\n",
      "\n"
     ]
    },
    {
     "name": "stderr",
     "output_type": "stream",
     "text": [
      " 50%|█████     | 3/6 [00:28<00:28,  9.41s/it]"
     ]
    },
    {
     "name": "stdout",
     "output_type": "stream",
     "text": [
      "1.2481686608481022 1.2481686608481022\n",
      "\n",
      "\n",
      "1.662230051140607 1.662230051140607\n",
      "\n",
      "\n",
      "1.6501088390193948 1.6501088390193948\n",
      "\n",
      "\n",
      "1.6440482329587889 1.6440482329587889\n",
      "\n",
      "\n",
      "1.6501088390193948 1.6501088390193948\n",
      "\n",
      "\n"
     ]
    },
    {
     "name": "stderr",
     "output_type": "stream",
     "text": [
      " 67%|██████▋   | 4/6 [00:37<00:18,  9.42s/it]"
     ]
    },
    {
     "name": "stdout",
     "output_type": "stream",
     "text": [
      "1.6501088390193948 1.6501088390193948\n",
      "\n",
      "\n",
      "1.9940496095262428 1.9940496095262428\n",
      "\n",
      "\n",
      "1.9819283974050306 1.9819283974050306\n",
      "\n",
      "\n",
      "1.9758677913444247 1.9758677913444247\n",
      "\n",
      "\n",
      "1.9819283974050306 1.9819283974050306\n",
      "\n",
      "\n"
     ]
    },
    {
     "name": "stderr",
     "output_type": "stream",
     "text": [
      " 83%|████████▎ | 5/6 [00:47<00:09,  9.69s/it]"
     ]
    },
    {
     "name": "stdout",
     "output_type": "stream",
     "text": [
      "1.9758677913444247 1.9758677913444247\n",
      "\n",
      "\n",
      "2.284336829364488 2.284336829364488\n",
      "\n",
      "\n",
      "2.2782762233038816 2.2782762233038816\n",
      "\n",
      "\n",
      "2.2722156172432757 2.2722156172432757\n",
      "\n",
      "\n",
      "2.2782762233038816 2.2782762233038816\n",
      "\n",
      "\n"
     ]
    },
    {
     "name": "stderr",
     "output_type": "stream",
     "text": [
      "100%|██████████| 6/6 [00:57<00:00,  9.54s/it]"
     ]
    },
    {
     "name": "stdout",
     "output_type": "stream",
     "text": [
      "2.2722156172432757 2.2722156172432757\n",
      "\n",
      "\n"
     ]
    },
    {
     "name": "stderr",
     "output_type": "stream",
     "text": [
      "\n"
     ]
    }
   ],
   "source": [
    "# for M in tqdm([0.0625, 0.125, 0.25, 0.5, 0.75, 1.0]):\n",
    "#     T_c = get_crit_T[M]\n",
    "#     T = np.linspace(T_c - 0.3, T_c + 0.3, num_temps)\n",
    "#     outs_ = []\n",
    "    \n",
    "#     for i, L in enumerate(Ls):\n",
    "#         with open(f'data_outputs/square/{M}_{L}_{num_temps}_{num_epochs}_epochs.npy', 'rb') as f:\n",
    "#             outs_.append(np.squeeze(np.load(f)))\n",
    "#     for i, L in enumerate(Ls):\n",
    "#         diff_1 = [np.abs(errs(outs_[i][:, 0])[j] - errs(outs_[i][:, 1]))[j] for j in range(num_temps)]\n",
    "#         diff_2 = [np.abs(errs(outs_[i][:, 0])[j] - 0.5) for j in range(num_temps)]\n",
    "#         print(T[np.argmin(diff_1)], T[np.argmin(diff_2)])\n",
    "#         print('\\n')"
   ]
  },
  {
   "cell_type": "markdown",
   "id": "5446d1be-6e2e-4400-aeb5-fdca0c6ec836",
   "metadata": {},
   "source": [
    "## Ising on triangular lattice\n",
    "\n",
    "$\\mathcal{H}=-\\sum\\limits_{x,y=1}^{L}\\left[J\\sigma_{x,y}(\\sigma_{x+1,y}+\\sigma_{x,y+1})+J_d \\sigma_{x,y}\\sigma_{x+1,y+1}\\right]$\n",
    " \\\n",
    " \\\n",
    "$J = 1.0$, $J_d \\in [-0.7, 0.0]$ with step $0.1$ \\\n",
    "\\\n",
    "Exact solution: \\\n",
    "\\\n",
    "$\\left(\\sinh{\\dfrac{2J}{k_B T_c}}\\right)^2+2\\sinh{\\dfrac{2J}{k_B T_c}}\\sinh{\\dfrac{2J_d}{k_B T_c}}=1  $"
   ]
  },
  {
   "cell_type": "code",
   "execution_count": 84,
   "id": "823d8414-12b3-4a42-888a-02c085dc816d",
   "metadata": {},
   "outputs": [],
   "source": [
    "roots = [3.64095690650721,\n",
    "        3.5184492410503965,\n",
    "        3.393522159945615,\n",
    "        3.2659503538230608,\n",
    "        3.1354715107049764,\n",
    "        3.0017774197047054,\n",
    "        2.8645022087095424,\n",
    "        2.7232065461969945,\n",
    "        2.577356059664392,\n",
    "        2.426291319035178,\n",
    "        2.2691853142129728, \n",
    "        2.104982167992544, \n",
    "        1.932307699120554,\n",
    "        1.749339162933206, \n",
    "        1.5536238493280832, \n",
    "        1.34187327905057, \n",
    "        1.109960313758399, \n",
    "        0.8541630993606272, \n",
    "        0.5762735442012712, \n",
    "        0.2885386111960936, \n",
    "        0.03198372863548067]\n",
    "jds = [1.0, 0.9, 0.8, 0.7, 0.6, 0.5, 0.4, 0.3, 0.2, 0.1, 0.0, -0.1, -0.2, -0.3, -0.4, -0.5, -0.6, -0.7, -0.8, -0.9, -1.0]\n",
    "get_crit_T = dict(zip(jds, roots))\n",
    "num_temps = 100\n",
    "Jds = jds[10:-1]\n",
    "Ls = [20, 30, 60, 80]\n",
    "num_epochs = 3"
   ]
  },
  {
   "cell_type": "markdown",
   "id": "f3215b00-0b64-4e8d-8525-6342c9e2d68b",
   "metadata": {},
   "source": [
    "### Discrete |$T^*$-$T_c$|/$T_c$\n",
    "\n",
    "$T^* = (T_{max} + T_{min}) / 2$"
   ]
  },
  {
   "cell_type": "code",
   "execution_count": 85,
   "id": "eda5fce0-6be4-403e-ace3-ea9f5793347a",
   "metadata": {},
   "outputs": [
    {
     "name": "stderr",
     "output_type": "stream",
     "text": [
      "100%|██████████| 10/10 [00:13<00:00,  1.31s/it]\n"
     ]
    }
   ],
   "source": [
    "ts_diff = {}\n",
    "ts_diff['min'] = []\n",
    "ts_diff['max'] = []\n",
    "ts_diff['mean'] = []\n",
    "ts_diff['T_c'] = []\n",
    "ts_diff['diff'] = []\n",
    "ts_diff['ts'] = {Jd: [] for Jd in Jds}\n",
    "\n",
    "for Jd in tqdm(Jds):\n",
    "    T_c = get_crit_T[Jd]\n",
    "    T = np.linspace(T_c - 0.3, T_c + 0.3, num_temps)\n",
    "    outs_ = []\n",
    "    \n",
    "    for i, L in enumerate(Ls):\n",
    "        with open(f'data_outputs/{Jd}_{L}_{num_temps}_{num_epochs}_epochs.npy', 'rb') as f:\n",
    "            outs_.append(np.squeeze(np.load(f)))\n",
    "\n",
    "    ts = []\n",
    "    for i, L in enumerate(Ls):\n",
    "        # diff = [np.abs(errs(outs_[i][:, 0])[j] - errs(outs_[i][:, 1]))[j] for j in range(num_temps)]\n",
    "        diff = [np.abs(errs(outs_[i])[j] - 0.5) for j in range(num_temps)]\n",
    "        ts.append(T[np.argmin(diff)])\n",
    "    ts = np.array(ts)\n",
    "\n",
    "    # print('min', np.min(ts))\n",
    "    # print('max', np.max(ts))\n",
    "    # print('mean', (np.max(ts) + np.min(ts))/ 2)\n",
    "    # print('T_c', T_c)\n",
    "    # print('diff', (np.max(ts) + np.min(ts))/ 2 - T_c)\n",
    "\n",
    "    ts_diff['min'].append(np.min(ts))\n",
    "    ts_diff['max'].append(np.max(ts))\n",
    "    ts_diff['mean'].append((np.max(ts) + np.min(ts))/ 2)\n",
    "    ts_diff['T_c'].append(T_c)\n",
    "    ts_diff['diff'].append(np.abs((np.max(ts) + np.min(ts))/ 2 - T_c))\n",
    "    ts_diff['ts'][Jd] = ts"
   ]
  },
  {
   "cell_type": "code",
   "execution_count": 86,
   "id": "9b2bb8ca-69cb-47cb-b01e-b2b51976de4b",
   "metadata": {},
   "outputs": [
    {
     "data": {
      "image/png": "[encoded data removed]",
      "text/plain": [
       "<Figure size 432x288 with 1 Axes>"
      ]
     },
     "metadata": {
      "needs_background": "light"
     },
     "output_type": "display_data"
    }
   ],
   "source": [
    "ts_diff_rel = [ts_diff['diff'][i] / ts_diff['T_c'][i] for i in range(len(ts_diff['diff']))]\n",
    "\n",
    "yerrs = np.array([(np.array(ts_diff['max'][i]) - np.array(ts_diff['mean'][i]))/2/ts_diff['T_c'][i] for i in range(len(ts_diff['diff']))])\n",
    "plt.errorbar(Jds[:-2], ts_diff_rel[:-2], yerr=yerrs[:-2], marker='o', color='black')\n",
    "plt.xlabel('$J_d/J$', fontsize=15)\n",
    "plt.ylabel('$|T^* - T_c|/T_c$', fontsize=15)\n",
    "# plt.show()\n",
    "plt.savefig('images/ts_estimate_Jd.png', bbox_inches='tight')"
   ]
  },
  {
   "cell_type": "markdown",
   "id": "8c260965-0722-499b-972f-a9e8ca78fc06",
   "metadata": {},
   "source": [
    "### Estimation of T_c ($T^{\\wedge}$) from $\\mu$"
   ]
  },
  {
   "cell_type": "code",
   "execution_count": 87,
   "id": "b3d84b19-0cd2-47f6-8abd-71f8bbe984ee",
   "metadata": {},
   "outputs": [
    {
     "data": {
      "image/png": "[encoded data removed]",
      "text/plain": [
       "<Figure size 432x288 with 1 Axes>"
      ]
     },
     "metadata": {
      "needs_background": "light"
     },
     "output_type": "display_data"
    }
   ],
   "source": [
    "### t_star <--- \\mu from L = 100 (J_v/J_h)\n",
    "\n",
    "mus = [0.9527, 1.1831, 1.3882, 1.5848, 1.7709, 1.9464, 2.1094, 2.2702]\n",
    "yerrs = [7e-4, 6e-4, 4e-4, 8e-4, 5e-4, 5e-4, 6e-4, 9e-4]\n",
    "jds = [-0.7, -0.6, -0.5, -0.4, -0.3, -0.2, -0.1, 0.0]\n",
    "mus_rel = [(mus[i] - get_crit_T[jds[i]]) / get_crit_T[jds[i]] for i in range(len(jds))]\n",
    "\n",
    "plt.errorbar(jds, mus_rel, yerr=yerrs, marker='o', color='black')\n",
    "plt.xlabel('$J_d/J$', fontsize=20)\n",
    "plt.ylabel('$|T^{\\oplus} - T_c|/T_c$', fontsize=20)\n",
    "# plt.show()\n",
    "plt.savefig('images/ts_estimate_Jd_mu.png', bbox_inches='tight')"
   ]
  },
  {
   "cell_type": "markdown",
   "id": "cb3cec6b-fec8-4c2b-b5d7-5cb0b2d1b7c9",
   "metadata": {},
   "source": [
    "### $J_d > 0$"
   ]
  },
  {
   "cell_type": "code",
   "execution_count": 16,
   "id": "400aece9-6c29-4151-ad8b-a2133aab6f22",
   "metadata": {},
   "outputs": [
    {
     "name": "stderr",
     "output_type": "stream",
     "text": [
      "100%|██████████| 9/9 [01:34<00:00, 10.51s/it]\n"
     ]
    }
   ],
   "source": [
    "Jds = [0.1, 0.2, 0.3, 0.4, 0.5, 0.6, 0.7, 0.8, 0.9]\n",
    "\n",
    "ts_diff = {}\n",
    "ts_diff['min'] = []\n",
    "ts_diff['max'] = []\n",
    "ts_diff['mean'] = []\n",
    "ts_diff['T_c'] = []\n",
    "ts_diff['diff'] = []\n",
    "ts_diff['ts'] = {Jd: [] for Jd in Jds}\n",
    "\n",
    "for Jd in tqdm(Jds):\n",
    "    T_c = get_crit_T[Jd]\n",
    "    T = np.linspace(T_c - 0.3, T_c + 0.3, num_temps)\n",
    "    outs_ = []\n",
    "    \n",
    "    for i, L in enumerate(Ls):\n",
    "        with open(f'data_outputs/{Jd}_{L}_{num_temps}_{num_epochs}_epochs.npy', 'rb') as f:\n",
    "            outs_.append(np.squeeze(np.load(f)))\n",
    "\n",
    "    ts = []\n",
    "    for i, L in enumerate(Ls):\n",
    "        # diff = [np.abs(errs(outs_[i][:, 0])[j] - errs(outs_[i][:, 1]))[j] for j in range(num_temps)]\n",
    "        diff = [np.abs(errs(outs_[i])[j] - 0.5) for j in range(num_temps)]\n",
    "        ts.append(T[np.argmin(diff)])\n",
    "    ts = np.array(ts)\n",
    "\n",
    "    # print('min', np.min(ts))\n",
    "    # print('max', np.max(ts))\n",
    "    # print('mean', (np.max(ts) + np.min(ts))/ 2)\n",
    "    # print('T_c', T_c)\n",
    "    # print('diff', (np.max(ts) + np.min(ts))/ 2 - T_c)\n",
    "\n",
    "    ts_diff['min'].append(np.min(ts))\n",
    "    ts_diff['max'].append(np.max(ts))\n",
    "    ts_diff['mean'].append((np.max(ts) + np.min(ts))/ 2)\n",
    "    ts_diff['T_c'].append(T_c)\n",
    "    ts_diff['diff'].append(np.abs(T_c - (np.max(ts) + np.min(ts))/ 2))\n",
    "    ts_diff['ts'][Jd] = ts"
   ]
  },
  {
   "cell_type": "code",
   "execution_count": 18,
   "id": "e266893f-6d8b-4e5a-994f-216d6c80ed67",
   "metadata": {},
   "outputs": [
    {
     "data": {
      "image/png": "[encoded data removed]",
      "text/plain": [
       "<Figure size 432x288 with 1 Axes>"
      ]
     },
     "metadata": {
      "needs_background": "light"
     },
     "output_type": "display_data"
    },
    {
     "data": {
      "text/plain": [
       "<Figure size 432x288 with 0 Axes>"
      ]
     },
     "metadata": {},
     "output_type": "display_data"
    }
   ],
   "source": [
    "ts_diff_rel = [ts_diff['diff'][i] / ts_diff['T_c'][i] for i in range(len(ts_diff['diff']))]\n",
    "\n",
    "yerrs = np.array([(np.array(ts_diff['max'][i]) - np.array(ts_diff['mean'][i]))/2/ts_diff['T_c'][i] for i in range(len(ts_diff['diff']))])\n",
    "plt.errorbar(Jds, ts_diff_rel, yerr=yerrs, marker='o', color='black')\n",
    "plt.xlabel('$J_d/J$', fontsize=15)\n",
    "plt.ylabel('$|T^* - T_c|/T_c$', fontsize=15)\n",
    "plt.show()\n",
    "plt.savefig('images/ts_diff_jd_pos.png')"
   ]
  },
  {
   "cell_type": "code",
   "execution_count": null,
   "id": "0a89a09a-abcd-44aa-a805-1962db913903",
   "metadata": {},
   "outputs": [],
   "source": []
  },
  {
   "cell_type": "code",
   "execution_count": 19,
   "id": "2e75f0ef-d708-439a-9dc4-c6ff52f6f6c3",
   "metadata": {},
   "outputs": [
    {
     "data": {
      "image/png": "[encoded data removed]",
      "text/plain": [
       "<Figure size 432x288 with 1 Axes>"
      ]
     },
     "metadata": {
      "needs_background": "light"
     },
     "output_type": "display_data"
    }
   ],
   "source": [
    "### t_star <--- \\mu from L = 80 (J_v/J_h)\n",
    "\n",
    "mus = [2.4035, 2.5478, 2.6871, 2.8218, 2.9538, 3.0832, 3.2079, 3.3298, 3.4506]\n",
    "yerrs = [3e-4, 6e-4, 3e-4, 4e-4, 5e-4, 5e-4, 4e-4, 5e-4, 6e-4]\n",
    "jds = Jds\n",
    "mus_rel = [(mus[i] - get_crit_T[jds[i]]) / get_crit_T[jds[i]] for i in range(len(jds))]\n",
    "\n",
    "plt.errorbar(jds, mus_rel, yerr=yerrs, marker='o', color='black')\n",
    "plt.xlabel('$J_d/J$', fontsize=20)\n",
    "plt.ylabel('$(T^{\\oplus} - T_c)/T_c$', fontsize=20)\n",
    "# plt.xlim([0, 1.1])\n",
    "# plt.ylim([0, 0.05])\n",
    "\n",
    "plt.savefig('images/ts_star_diff_jd_pos.png')"
   ]
  },
  {
   "cell_type": "code",
   "execution_count": null,
   "id": "943b5ae5-2516-41b8-9196-ca92c6b2d191",
   "metadata": {},
   "outputs": [],
   "source": []
  },
  {
   "cell_type": "code",
   "execution_count": null,
   "id": "c51fee2f-1b42-4d57-aca4-375d11501ee9",
   "metadata": {},
   "outputs": [],
   "source": []
  },
  {
   "cell_type": "code",
   "execution_count": null,
   "id": "16c44ae8-1ad8-412d-9bf1-f8820b7bbad6",
   "metadata": {},
   "outputs": [],
   "source": []
  },
  {
   "cell_type": "markdown",
   "id": "69c2e776-4c9e-4b68-a500-d6d21e68bd35",
   "metadata": {},
   "source": [
    "### prepare data"
   ]
  },
  {
   "cell_type": "code",
   "execution_count": 60,
   "id": "61922eed-fa05-4566-b6a9-dc782c51a7a5",
   "metadata": {},
   "outputs": [
    {
     "name": "stderr",
     "output_type": "stream",
     "text": [
      "100%|██████████| 6/6 [00:00<00:00, 17.39it/s]\n"
     ]
    }
   ],
   "source": [
    "roots = [0.3018336135076354, 0.7883671029813581, 0.9723445185469877, 1.2390777517571931, 1.6410179299284857, 1.9728374883141215, 2.2691853142129728, 2.8007227202811613]\n",
    "ms = [0.0004, 0.0625, 0.125, 0.25, 0.5, 0.75, 1.0, 1.5]\n",
    "get_crit_T = dict(zip(ms, roots))\n",
    "Ls = [20, 30, 60, 80, 100]\n",
    "num_epochs = 3\n",
    "\n",
    "for M in tqdm([0.0625, 0.125, 0.25, 0.5, 0.75, 1.0]):\n",
    "    T_c = get_crit_T[M]\n",
    "    T = np.linspace(T_c - 0.3, T_c + 0.3, num_temps)\n",
    "    \n",
    "    for i, L in enumerate(Ls):\n",
    "        with open(f'data_outputs/square/{M}_{L}_{num_temps}_{num_epochs}_epochs.npy', 'rb') as f:\n",
    "            outs_ = np.squeeze(np.load(f))\n",
    "        with open(f'data_temps/square/{M}_{L}.npy', 'wb') as f:\n",
    "            np.save(f, errs(outs_[:, 0]), allow_pickle=False)"
   ]
  },
  {
   "cell_type": "code",
   "execution_count": 61,
   "id": "34343b01-df3b-406e-aa16-650f337adeed",
   "metadata": {},
   "outputs": [
    {
     "name": "stdout",
     "output_type": "stream",
     "text": [
      "(100,)\n"
     ]
    }
   ],
   "source": [
    "with open(f'data_temps/square/{M}_{L}.npy', 'rb') as f:\n",
    "    outs = np.load(f)\n",
    "    print(outs.shape)"
   ]
  },
  {
   "cell_type": "code",
   "execution_count": null,
   "id": "f1e15c3c-af48-489a-b511-3654492320ec",
   "metadata": {},
   "outputs": [],
   "source": []
  },
  {
   "cell_type": "code",
   "execution_count": null,
   "id": "c5d6302e-208b-4057-8f83-8f7ce05650ac",
   "metadata": {},
   "outputs": [],
   "source": []
  },
  {
   "cell_type": "code",
   "execution_count": 71,
   "id": "4ff41dcb-4fab-4ca1-85a3-f68c47c5a52e",
   "metadata": {},
   "outputs": [],
   "source": [
    "roots = [3.64095690650721,\n",
    "        3.5184492410503965,\n",
    "        3.393522159945615,\n",
    "        3.2659503538230608,\n",
    "        3.1354715107049764,\n",
    "        3.0017774197047054,\n",
    "        2.8645022087095424,\n",
    "        2.7232065461969945,\n",
    "        2.577356059664392,\n",
    "        2.426291319035178,\n",
    "        2.2691853142129728, \n",
    "        2.104982167992544, \n",
    "        1.932307699120554,\n",
    "        1.749339162933206, \n",
    "        1.5536238493280832, \n",
    "        1.34187327905057, \n",
    "        1.109960313758399, \n",
    "        0.8541630993606272, \n",
    "        0.5762735442012712, \n",
    "        0.2885386111960936, \n",
    "        0.03198372863548067]\n",
    "jds = [1.0, 0.9, 0.8, 0.7, 0.6, 0.5, 0.4, 0.3, 0.2, 0.1, 0.0, -0.1, -0.2, -0.3, -0.4, -0.5, -0.6, -0.7, -0.8, -0.9, -1.0]\n",
    "get_crit_T = dict(zip(jds, roots))\n",
    "num_temps = 100\n",
    "# Jds = jds[10:-1]\n",
    "Jds = jds[1:10]\n",
    "Ls = [20, 30, 60, 80]\n",
    "num_epochs = 3"
   ]
  },
  {
   "cell_type": "code",
   "execution_count": 72,
   "id": "a1eb2782-cdab-448b-b647-6078fcc97705",
   "metadata": {},
   "outputs": [
    {
     "name": "stderr",
     "output_type": "stream",
     "text": [
      "100%|██████████| 9/9 [00:01<00:00,  7.85it/s]\n"
     ]
    }
   ],
   "source": [
    "for Jd in tqdm(Jds):\n",
    "    T_c = get_crit_T[Jd]\n",
    "    T = np.linspace(T_c - 0.3, T_c + 0.3, num_temps)\n",
    "    \n",
    "    for i, L in enumerate(Ls):\n",
    "        with open(f'data_outputs/{Jd}_{L}_{num_temps}_{num_epochs}_epochs.npy', 'rb') as f:\n",
    "            outs_ = np.squeeze(np.load(f))\n",
    "        with open(f'data_temps/triang/{Jd}_{L}.npy', 'wb') as f:\n",
    "            np.save(f, errs(outs_), allow_pickle=False)"
   ]
  },
  {
   "cell_type": "code",
   "execution_count": 66,
   "id": "1b5d10d8-2f0e-490a-8740-449b947de364",
   "metadata": {},
   "outputs": [
    {
     "name": "stdout",
     "output_type": "stream",
     "text": [
      "(100,)\n"
     ]
    }
   ],
   "source": [
    "with open(f'data_temps/triang/{Jd}_{L}.npy', 'rb') as f:\n",
    "    outs = np.load(f)\n",
    "    print(outs.shape)"
   ]
  },
  {
   "cell_type": "code",
   "execution_count": 93,
   "id": "099a077d-6102-4c5a-915a-fa858069497e",
   "metadata": {},
   "outputs": [
    {
     "name": "stdout",
     "output_type": "stream",
     "text": [
      "  adding: data_outs/ (stored 0%)\n",
      "  adding: data_outs/square_Jv_L/ (stored 0%)\n",
      "  adding: data_outs/square_Jv_L/0.5_100.npy (deflated 29%)\n",
      "  adding: data_outs/square_Jv_L/0.25_80.npy (deflated 28%)\n",
      "  adding: data_outs/square_Jv_L/0.125_100.npy (deflated 28%)\n",
      "  adding: data_outs/square_Jv_L/0.0625_20.npy (deflated 23%)\n",
      "  adding: data_outs/square_Jv_L/0.5_80.npy (deflated 27%)\n",
      "  adding: data_outs/square_Jv_L/1.0_80.npy (deflated 25%)\n",
      "  adding: data_outs/square_Jv_L/0.125_60.npy (deflated 26%)\n",
      "  adding: data_outs/square_Jv_L/0.25_30.npy (deflated 20%)\n",
      "  adding: data_outs/square_Jv_L/0.75_20.npy (deflated 21%)\n",
      "  adding: data_outs/square_Jv_L/0.75_80.npy (deflated 26%)\n",
      "  adding: data_outs/square_Jv_L/0.0625_100.npy (deflated 30%)\n",
      "  adding: data_outs/square_Jv_L/0.75_60.npy (deflated 26%)\n",
      "  adding: data_outs/square_Jv_L/0.25_60.npy (deflated 28%)\n",
      "  adding: data_outs/square_Jv_L/0.5_30.npy (deflated 18%)\n",
      "  adding: data_outs/square_Jv_L/1.0_30.npy (deflated 18%)\n",
      "  adding: data_outs/square_Jv_L/0.0625_60.npy (deflated 30%)\n",
      "  adding: data_outs/square_Jv_L/0.75_100.npy (deflated 27%)\n",
      "  adding: data_outs/square_Jv_L/0.125_20.npy (deflated 22%)\n",
      "  adding: data_outs/square_Jv_L/0.0625_80.npy (deflated 25%)\n",
      "  adding: data_outs/square_Jv_L/1.0_60.npy (deflated 25%)\n",
      "  adding: data_outs/square_Jv_L/0.25_100.npy (deflated 28%)\n",
      "  adding: data_outs/square_Jv_L/0.75_30.npy (deflated 18%)\n",
      "  adding: data_outs/square_Jv_L/0.25_20.npy (deflated 22%)\n",
      "  adding: data_outs/square_Jv_L/1.0_20.npy (deflated 20%)\n",
      "  adding: data_outs/square_Jv_L/0.0625_30.npy (deflated 18%)\n",
      "  adding: data_outs/square_Jv_L/0.5_20.npy (deflated 22%)\n",
      "  adding: data_outs/square_Jv_L/1.0_100.npy (deflated 27%)\n",
      "  adding: data_outs/square_Jv_L/0.125_80.npy (deflated 28%)\n",
      "  adding: data_outs/square_Jv_L/0.5_60.npy (deflated 26%)\n",
      "  adding: data_outs/square_Jv_L/0.125_30.npy (deflated 19%)\n",
      "  adding: data_outs/triang_Jd_L/ (stored 0%)\n",
      "  adding: data_outs/triang_Jd_L/-0.2_60.npy (deflated 26%)\n",
      "  adding: data_outs/triang_Jd_L/-0.6_120.npy (deflated 25%)\n",
      "  adding: data_outs/triang_Jd_L/-0.1_30.npy (deflated 18%)\n",
      "  adding: data_outs/triang_Jd_L/-0.3_30.npy (deflated 18%)\n",
      "  adding: data_outs/triang_Jd_L/-0.1_60.npy (deflated 26%)\n",
      "  adding: data_outs/triang_Jd_L/-0.7_60.npy (deflated 23%)\n",
      "  adding: data_outs/triang_Jd_L/-0.9_60.npy (deflated 48%)\n",
      "  adding: data_outs/triang_Jd_L/-0.5_80.npy (deflated 24%)\n",
      "  adding: data_outs/triang_Jd_L/0.2_80.npy (deflated 10%)\n",
      "  adding: data_outs/triang_Jd_L/0.8_20.npy (deflated 8%)\n",
      "  adding: data_outs/triang_Jd_L/0.8_80.npy (deflated 11%)\n",
      "  adding: data_outs/triang_Jd_L/-0.4_20.npy (deflated 22%)\n",
      "  adding: data_outs/triang_Jd_L/0.7_20.npy (deflated 8%)\n",
      "  adding: data_outs/triang_Jd_L/-0.5_30.npy (deflated 19%)\n",
      "  adding: data_outs/triang_Jd_L/0.2_60.npy (deflated 20%)\n",
      "  adding: data_outs/triang_Jd_L/0.8_60.npy (deflated 17%)\n",
      "  adding: data_outs/triang_Jd_L/-0.1_120.npy (deflated 28%)\n",
      "  adding: data_outs/triang_Jd_L/-0.8_120.npy (deflated 28%)\n",
      "  adding: data_outs/triang_Jd_L/-0.3_120.npy (deflated 28%)\n",
      "  adding: data_outs/triang_Jd_L/-0.6_20.npy (deflated 23%)\n",
      "  adding: data_outs/triang_Jd_L/0.1_60.npy (deflated 20%)\n",
      "  adding: data_outs/triang_Jd_L/0.5_80.npy (deflated 11%)\n",
      "  adding: data_outs/triang_Jd_L/0.0_30.npy (deflated 19%)\n",
      "  adding: data_outs/triang_Jd_L/0.9_30.npy (deflated 7%)\n",
      "  adding: data_outs/triang_Jd_L/-0.3_80.npy (deflated 25%)\n",
      "  adding: data_outs/triang_Jd_L/0.3_80.npy (deflated 11%)\n",
      "  adding: data_outs/triang_Jd_L/0.9_80.npy (deflated 10%)\n",
      "  adding: data_outs/triang_Jd_L/-0.2_80.npy (deflated 26%)\n",
      "  adding: data_outs/triang_Jd_L/-0.8_30.npy (deflated 27%)\n",
      "  adding: data_outs/triang_Jd_L/0.4_20.npy (deflated 8%)\n",
      "  adding: data_outs/triang_Jd_L/-0.9_30.npy (deflated 44%)\n",
      "  adding: data_outs/triang_Jd_L/-0.6_30.npy (deflated 19%)\n",
      "  adding: data_outs/triang_Jd_L/0.7_60.npy (deflated 16%)\n",
      "  adding: data_outs/triang_Jd_L/0.6_30.npy (deflated 7%)\n",
      "  adding: data_outs/triang_Jd_L/-0.4_30.npy (deflated 18%)\n",
      "  adding: data_outs/triang_Jd_L/0.2_30.npy (deflated 8%)\n",
      "  adding: data_outs/triang_Jd_L/0.9_60.npy (deflated 15%)\n",
      "  adding: data_outs/triang_Jd_L/-0.7_120.npy (deflated 25%)\n",
      "  adding: data_outs/triang_Jd_L/-0.8_60.npy (deflated 30%)\n",
      "  adding: data_outs/triang_Jd_L/-0.4_120.npy (deflated 26%)\n",
      "  adding: data_outs/triang_Jd_L/-0.9_80.npy (deflated 50%)\n",
      "  adding: data_outs/triang_Jd_L/-0.4_60.npy (deflated 25%)\n",
      "  adding: data_outs/triang_Jd_L/0.4_60.npy (deflated 19%)\n",
      "  adding: data_outs/triang_Jd_L/-0.2_20.npy (deflated 22%)\n",
      "  adding: data_outs/triang_Jd_L/0.5_30.npy (deflated 7%)\n",
      "  adding: data_outs/triang_Jd_L/-0.2_30.npy (deflated 18%)\n",
      "  adding: data_outs/triang_Jd_L/0.0_20.npy (deflated 23%)\n",
      "  adding: data_outs/triang_Jd_L/0.1_80.npy (deflated 10%)\n",
      "  adding: data_outs/triang_Jd_L/-0.8_80.npy (deflated 33%)\n",
      "  adding: data_outs/triang_Jd_L/-0.1_20.npy (deflated 23%)\n",
      "  adding: data_outs/triang_Jd_L/-0.7_20.npy (deflated 23%)\n",
      "  adding: data_outs/triang_Jd_L/0.3_60.npy (deflated 21%)\n",
      "  adding: data_outs/triang_Jd_L/0.8_30.npy (deflated 7%)\n",
      "  adding: data_outs/triang_Jd_L/-0.9_120.npy (deflated 38%)\n",
      "  adding: data_outs/triang_Jd_L/0.0_120.npy (deflated 29%)\n",
      "  adding: data_outs/triang_Jd_L/0.0_80.npy (deflated 25%)\n",
      "  adding: data_outs/triang_Jd_L/-0.5_60.npy (deflated 24%)\n",
      "  adding: data_outs/triang_Jd_L/0.7_30.npy (deflated 7%)\n",
      "  adding: data_outs/triang_Jd_L/-0.6_80.npy (deflated 24%)\n",
      "  adding: data_outs/triang_Jd_L/0.6_60.npy (deflated 18%)\n",
      "  adding: data_outs/triang_Jd_L/0.9_20.npy (deflated 9%)\n",
      "  adding: data_outs/triang_Jd_L/-0.3_60.npy (deflated 25%)\n",
      "  adding: data_outs/triang_Jd_L/0.1_30.npy (deflated 8%)\n",
      "  adding: data_outs/triang_Jd_L/0.1_20.npy (deflated 8%)\n",
      "  adding: data_outs/triang_Jd_L/0.3_20.npy (deflated 8%)\n",
      "  adding: data_outs/triang_Jd_L/-0.7_30.npy (deflated 21%)\n",
      "  adding: data_outs/triang_Jd_L/-0.6_60.npy (deflated 24%)\n",
      "  adding: data_outs/triang_Jd_L/-0.8_20.npy (deflated 24%)\n",
      "  adding: data_outs/triang_Jd_L/0.5_20.npy (deflated 8%)\n",
      "  adding: data_outs/triang_Jd_L/0.3_30.npy (deflated 7%)\n",
      "  adding: data_outs/triang_Jd_L/0.4_80.npy (deflated 11%)\n",
      "  adding: data_outs/triang_Jd_L/-0.2_120.npy (deflated 28%)\n",
      "  adding: data_outs/triang_Jd_L/-0.1_80.npy (deflated 26%)\n",
      "  adding: data_outs/triang_Jd_L/-0.9_20.npy (deflated 44%)\n",
      "  adding: data_outs/triang_Jd_L/0.2_20.npy (deflated 8%)\n",
      "  adding: data_outs/triang_Jd_L/0.4_30.npy (deflated 7%)\n",
      "  adding: data_outs/triang_Jd_L/0.0_60.npy (deflated 25%)\n",
      "  adding: data_outs/triang_Jd_L/-0.4_80.npy (deflated 25%)\n",
      "  adding: data_outs/triang_Jd_L/-0.7_80.npy (deflated 25%)\n",
      "  adding: data_outs/triang_Jd_L/0.7_80.npy (deflated 11%)\n",
      "  adding: data_outs/triang_Jd_L/-0.3_20.npy (deflated 21%)\n",
      "  adding: data_outs/triang_Jd_L/0.6_80.npy (deflated 10%)\n",
      "  adding: data_outs/triang_Jd_L/-0.5_120.npy (deflated 27%)\n",
      "  adding: data_outs/triang_Jd_L/0.6_20.npy (deflated 8%)\n",
      "  adding: data_outs/triang_Jd_L/0.5_60.npy (deflated 19%)\n",
      "  adding: data_outs/triang_Jd_L/-0.5_20.npy (deflated 23%)\n"
     ]
    }
   ],
   "source": [
    "!zip -r data_outs data_outs/"
   ]
  },
  {
   "cell_type": "code",
   "execution_count": null,
   "id": "a4ee9cda-c5e7-4156-9821-cf186f35e4b9",
   "metadata": {},
   "outputs": [],
   "source": []
  }
 ],
 "metadata": {
  "kernelspec": {
   "display_name": "Python [.conda-mc_lib_env]",
   "language": "python",
   "name": "conda-env-.conda-mc_lib_env-py"
  },
  "language_info": {
   "codemirror_mode": {
    "name": "ipython",
    "version": 3
   },
   "file_extension": ".py",
   "mimetype": "text/x-python",
   "name": "python",
   "nbconvert_exporter": "python",
   "pygments_lexer": "ipython3",
   "version": "3.7.11"
  }
 },
 "nbformat": 4,
 "nbformat_minor": 5
}
