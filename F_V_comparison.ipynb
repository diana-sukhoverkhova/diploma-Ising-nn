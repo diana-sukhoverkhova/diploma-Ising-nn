{
 "cells": [
  {
   "cell_type": "code",
   "execution_count": 17,
   "id": "3e4ddcb0-de8d-4d41-b165-b44569a2fce2",
   "metadata": {},
   "outputs": [
    {
     "data": {
      "text/plain": [
       "<contextlib._GeneratorContextManager at 0x2b173afc7b10>"
      ]
     },
     "execution_count": 17,
     "metadata": {},
     "output_type": "execute_result"
    }
   ],
   "source": [
    "import matplotlib.pyplot as plt\n",
    "import numpy as np\n",
    "import pickle\n",
    "%matplotlib inline\n",
    "\n",
    "from scipy.optimize import curve_fit\n",
    "\n",
    "import warnings\n",
    "warnings.filterwarnings(\"ignore\")\n",
    "\n",
    "plt.rcParams['axes.grid'] = False\n",
    "plt.style.context('Solarize_Light2')"
   ]
  },
  {
   "cell_type": "code",
   "execution_count": 18,
   "id": "4043a849-13f8-4215-94cc-64465c04b00c",
   "metadata": {},
   "outputs": [],
   "source": [
    "def average_outs(outs):\n",
    "    return np.array([sum(outs[i*512:(i+1)*512])/512 for i in range(num_temps)])\n",
    "\n",
    "def stds_outs(outs):\n",
    "    return np.power(np.array([np.std(outs[i*512:(i+1)*512]) for i in range(num_temps)]), 2)\n",
    "\n",
    "num_temps = 100\n",
    "num_epochs = 3\n",
    "\n",
    "markers = ['.', '^', 'X', 's', '*', 'p']\n",
    "colors = ['blue', 'orange', 'green', 'red', 'm', 'gold']"
   ]
  },
  {
   "cell_type": "markdown",
   "id": "673a28d0-484e-4e45-a5db-93e1473f7085",
   "metadata": {},
   "source": [
    "## Ising square lattice"
   ]
  },
  {
   "cell_type": "markdown",
   "id": "419488ae-c648-4c1f-bf67-2eaae85434fd",
   "metadata": {},
   "source": [
    "## discrete"
   ]
  },
  {
   "cell_type": "code",
   "execution_count": 19,
   "id": "21885738-bef2-4116-8898-19a5d9a3eb7f",
   "metadata": {},
   "outputs": [],
   "source": [
    "M = 0.125\n",
    "\n",
    "### get temperature range and predictions of NN ###\n",
    "\n",
    "with open('ts_crit_sq.pkl', 'rb') as f:\n",
    "    get_crit_T = pickle.load(f)\n",
    "    \n",
    "T_c = get_crit_T[M]\n",
    "T = np.linspace(T_c - 0.3, T_c + 0.3, num_temps)\n",
    "\n",
    "Ls = np.array([20, 30, 60, 80, 100])\n",
    "outs_ = []\n",
    "num_epochs = 3\n",
    "\n",
    "for i, L in enumerate(Ls):\n",
    "    with open(f'data_outputs/square/{M}_{L}_{num_temps}_{num_epochs}_epochs.npy', 'rb') as f:\n",
    "        outs_.append(np.squeeze(np.load(f)))"
   ]
  },
  {
   "cell_type": "code",
   "execution_count": 28,
   "id": "de440087-1a12-4c91-82da-0092ad4e46f0",
   "metadata": {},
   "outputs": [],
   "source": [
    "### get discrete T_c^* from NN outputs\n",
    "\n",
    "ts_f = []\n",
    "for i, L in enumerate(Ls):\n",
    "    diff = [np.abs(average_outs(outs_[i][:, 0])[j] - average_outs(outs_[i][:, 1]))[j] for j in range(num_temps)]\n",
    "    ts_f.append(T[np.argmin(diff)])\n",
    "ts_f = np.array(ts_f)"
   ]
  },
  {
   "cell_type": "code",
   "execution_count": 29,
   "id": "d3ecb874-0f74-4adc-968c-60e07e3b576c",
   "metadata": {},
   "outputs": [],
   "source": [
    "### get discrete T_c^* from variance of NN outputs\n",
    "\n",
    "ts_v = []\n",
    "for i, L in enumerate(Ls):\n",
    "    #diff = [np.abs(stds_outs(outs_[i][:, 0])[j] - stds_outs(outs_[i][:, 1]))[j] for j in range(num_temps)]\n",
    "    ts_v.append(T[np.argmax(stds_outs(outs_[i][:, 0]))])\n",
    "ts_v = np.array(ts_v)"
   ]
  },
  {
   "cell_type": "code",
   "execution_count": 32,
   "id": "7c8a1d6a-9cdc-4af4-affd-b46785cb63f4",
   "metadata": {},
   "outputs": [
    {
     "name": "stdout",
     "output_type": "stream",
     "text": [
      "[0.99961725 0.99355664 0.99355664 0.99355664 0.98749603] [0.02727273 0.02121212 0.02121212 0.02121212 0.01515152] \n",
      "\n",
      "[0.99961725 0.99355664 0.99355664 0.99355664 0.98749603] [0.02727273 0.02121212 0.02121212 0.02121212 0.01515152]\n"
     ]
    }
   ],
   "source": [
    "print(ts_f, ts_f - T_c, '\\n')\n",
    "print(ts_v, ts_v - T_c)"
   ]
  },
  {
   "cell_type": "code",
   "execution_count": 31,
   "id": "3df4d5b5-ed12-492f-8e01-8937a991e0c6",
   "metadata": {},
   "outputs": [
    {
     "data": {
      "text/plain": [
       "<matplotlib.legend.Legend at 0x2b173d938350>"
      ]
     },
     "execution_count": 31,
     "metadata": {},
     "output_type": "execute_result"
    },
    {
     "data": {
      "image/png": "[encoded data removed]",
      "text/plain": [
       "<Figure size 432x288 with 1 Axes>"
      ]
     },
     "metadata": {
      "needs_background": "light"
     },
     "output_type": "display_data"
    }
   ],
   "source": [
    "def line(x, a, b):\n",
    "    return a*x + b \n",
    "\n",
    "def line_fit(y, x):\n",
    "    popt, pcov = curve_fit(line, xdata=x, ydata=y, absolute_sigma=False, maxfev=100000)\n",
    "    return popt, pcov\n",
    "\n",
    "ls = 1 / Ls\n",
    "\n",
    "cs_f = ts_f - T_c \n",
    "pl_f, pcov_f = line_fit(y=np.log(np.abs(cs_f)), x=np.log(ls))\n",
    "perr_f = np.sqrt(np.diag(pcov_f))\n",
    "\n",
    "cs_v = ts_v - T_c \n",
    "pl_v, pcov_v = line_fit(y=np.log(np.abs(cs_v)), x=np.log(ls))\n",
    "perr_v = np.sqrt(np.diag(pcov_v))\n",
    "\n",
    "plt.scatter(ls, cs_f, color='red')\n",
    "plt.scatter(ls, cs_v, color='blue')\n",
    "#plt.errorbar(ls, cs_, yerr=perr_[:, 1], fmt=\"o\", color='black', label='$\\mu-T_c$')\n",
    "\n",
    "plt.plot(ls, np.exp(line(np.log(ls), pl_f[0], pl_f[1])), color='black', label='$\\mu-T_c\\sim$1\\L^{0:.4f}({1:.4f})'.format(round(pl_f[0], 4), round(perr_f[0], 4)))\n",
    "plt.plot(ls, np.exp(line(np.log(ls), pl_v[0], pl_v[1])), color='black', label='$\\mu-T_c\\sim$1\\L^{0:.4f}({1:.4f})'.format(round(pl_v[0], 4), round(perr_v[0], 4)))\n",
    "\n",
    "#plt.title(f'M = {M}')\n",
    "plt.xlabel('1/L')\n",
    "# plt.ylabel('$\\mu-T_c$')\n",
    "plt.xscale('log')\n",
    "plt.yscale('log')\n",
    "plt.legend()\n",
    "# plt.savefig(f'images/{M}-mu.png')"
   ]
  },
  {
   "cell_type": "markdown",
   "id": "e24977c3-c8c4-46fa-86bd-6158bce2e06b",
   "metadata": {},
   "source": [
    "## continious"
   ]
  },
  {
   "cell_type": "code",
   "execution_count": null,
   "id": "62c77049-4c99-4f42-a44f-5aed50d2d2e3",
   "metadata": {},
   "outputs": [],
   "source": []
  }
 ],
 "metadata": {
  "kernelspec": {
   "display_name": "Python [.conda-mc_lib_env]",
   "language": "python",
   "name": "conda-env-.conda-mc_lib_env-py"
  },
  "language_info": {
   "codemirror_mode": {
    "name": "ipython",
    "version": 3
   },
   "file_extension": ".py",
   "mimetype": "text/x-python",
   "name": "python",
   "nbconvert_exporter": "python",
   "pygments_lexer": "ipython3",
   "version": "3.7.11"
  }
 },
 "nbformat": 4,
 "nbformat_minor": 5
}
